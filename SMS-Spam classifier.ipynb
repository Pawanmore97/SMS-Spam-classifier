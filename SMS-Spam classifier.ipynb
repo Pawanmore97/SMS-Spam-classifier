{
 "cells": [
  {
   "cell_type": "code",
   "execution_count": 3,
   "id": "cbf6152f",
   "metadata": {},
   "outputs": [],
   "source": [
    "import pandas as pd\n",
    "import numpy as np\n",
    "import matplotlib.pyplot as mpl\n",
    "import seaborn as sb\n",
    "import warnings "
   ]
  },
  {
   "cell_type": "code",
   "execution_count": 4,
   "id": "fc54ef99",
   "metadata": {},
   "outputs": [],
   "source": [
    "warnings.filterwarnings(\"ignore\")"
   ]
  },
  {
   "cell_type": "code",
   "execution_count": null,
   "id": "84bdd11e",
   "metadata": {},
   "outputs": [],
   "source": [
    "from zipfile import ZipFile\n",
    "with ZipFile(\"archive (53).zip\",\"r\") as f:\n",
    "    f.extractall(\"\")"
   ]
  },
  {
   "cell_type": "code",
   "execution_count": 5,
   "id": "1dedfbfb",
   "metadata": {},
   "outputs": [],
   "source": [
    "df = pd.read_csv(\"spam.csv\",encoding = \"ISO-8859-1\")"
   ]
  },
  {
   "cell_type": "code",
   "execution_count": 6,
   "id": "17afb9ad",
   "metadata": {},
   "outputs": [
    {
     "data": {
      "text/html": [
       "<div>\n",
       "<style scoped>\n",
       "    .dataframe tbody tr th:only-of-type {\n",
       "        vertical-align: middle;\n",
       "    }\n",
       "\n",
       "    .dataframe tbody tr th {\n",
       "        vertical-align: top;\n",
       "    }\n",
       "\n",
       "    .dataframe thead th {\n",
       "        text-align: right;\n",
       "    }\n",
       "</style>\n",
       "<table border=\"1\" class=\"dataframe\">\n",
       "  <thead>\n",
       "    <tr style=\"text-align: right;\">\n",
       "      <th></th>\n",
       "      <th>v1</th>\n",
       "      <th>v2</th>\n",
       "      <th>Unnamed: 2</th>\n",
       "      <th>Unnamed: 3</th>\n",
       "      <th>Unnamed: 4</th>\n",
       "    </tr>\n",
       "  </thead>\n",
       "  <tbody>\n",
       "    <tr>\n",
       "      <th>0</th>\n",
       "      <td>ham</td>\n",
       "      <td>Go until jurong point, crazy.. Available only ...</td>\n",
       "      <td>NaN</td>\n",
       "      <td>NaN</td>\n",
       "      <td>NaN</td>\n",
       "    </tr>\n",
       "    <tr>\n",
       "      <th>1</th>\n",
       "      <td>ham</td>\n",
       "      <td>Ok lar... Joking wif u oni...</td>\n",
       "      <td>NaN</td>\n",
       "      <td>NaN</td>\n",
       "      <td>NaN</td>\n",
       "    </tr>\n",
       "    <tr>\n",
       "      <th>2</th>\n",
       "      <td>spam</td>\n",
       "      <td>Free entry in 2 a wkly comp to win FA Cup fina...</td>\n",
       "      <td>NaN</td>\n",
       "      <td>NaN</td>\n",
       "      <td>NaN</td>\n",
       "    </tr>\n",
       "    <tr>\n",
       "      <th>3</th>\n",
       "      <td>ham</td>\n",
       "      <td>U dun say so early hor... U c already then say...</td>\n",
       "      <td>NaN</td>\n",
       "      <td>NaN</td>\n",
       "      <td>NaN</td>\n",
       "    </tr>\n",
       "    <tr>\n",
       "      <th>4</th>\n",
       "      <td>ham</td>\n",
       "      <td>Nah I don't think he goes to usf, he lives aro...</td>\n",
       "      <td>NaN</td>\n",
       "      <td>NaN</td>\n",
       "      <td>NaN</td>\n",
       "    </tr>\n",
       "  </tbody>\n",
       "</table>\n",
       "</div>"
      ],
      "text/plain": [
       "     v1                                                 v2 Unnamed: 2  \\\n",
       "0   ham  Go until jurong point, crazy.. Available only ...        NaN   \n",
       "1   ham                      Ok lar... Joking wif u oni...        NaN   \n",
       "2  spam  Free entry in 2 a wkly comp to win FA Cup fina...        NaN   \n",
       "3   ham  U dun say so early hor... U c already then say...        NaN   \n",
       "4   ham  Nah I don't think he goes to usf, he lives aro...        NaN   \n",
       "\n",
       "  Unnamed: 3 Unnamed: 4  \n",
       "0        NaN        NaN  \n",
       "1        NaN        NaN  \n",
       "2        NaN        NaN  \n",
       "3        NaN        NaN  \n",
       "4        NaN        NaN  "
      ]
     },
     "execution_count": 6,
     "metadata": {},
     "output_type": "execute_result"
    }
   ],
   "source": [
    "df.head()"
   ]
  },
  {
   "cell_type": "code",
   "execution_count": 7,
   "id": "cc8316ae",
   "metadata": {},
   "outputs": [
    {
     "data": {
      "text/html": [
       "<div>\n",
       "<style scoped>\n",
       "    .dataframe tbody tr th:only-of-type {\n",
       "        vertical-align: middle;\n",
       "    }\n",
       "\n",
       "    .dataframe tbody tr th {\n",
       "        vertical-align: top;\n",
       "    }\n",
       "\n",
       "    .dataframe thead th {\n",
       "        text-align: right;\n",
       "    }\n",
       "</style>\n",
       "<table border=\"1\" class=\"dataframe\">\n",
       "  <thead>\n",
       "    <tr style=\"text-align: right;\">\n",
       "      <th></th>\n",
       "      <th>v1</th>\n",
       "      <th>v2</th>\n",
       "      <th>Unnamed: 2</th>\n",
       "      <th>Unnamed: 3</th>\n",
       "      <th>Unnamed: 4</th>\n",
       "    </tr>\n",
       "  </thead>\n",
       "  <tbody>\n",
       "    <tr>\n",
       "      <th>5567</th>\n",
       "      <td>spam</td>\n",
       "      <td>This is the 2nd time we have tried 2 contact u...</td>\n",
       "      <td>NaN</td>\n",
       "      <td>NaN</td>\n",
       "      <td>NaN</td>\n",
       "    </tr>\n",
       "    <tr>\n",
       "      <th>5568</th>\n",
       "      <td>ham</td>\n",
       "      <td>Will Ì_ b going to esplanade fr home?</td>\n",
       "      <td>NaN</td>\n",
       "      <td>NaN</td>\n",
       "      <td>NaN</td>\n",
       "    </tr>\n",
       "    <tr>\n",
       "      <th>5569</th>\n",
       "      <td>ham</td>\n",
       "      <td>Pity, * was in mood for that. So...any other s...</td>\n",
       "      <td>NaN</td>\n",
       "      <td>NaN</td>\n",
       "      <td>NaN</td>\n",
       "    </tr>\n",
       "    <tr>\n",
       "      <th>5570</th>\n",
       "      <td>ham</td>\n",
       "      <td>The guy did some bitching but I acted like i'd...</td>\n",
       "      <td>NaN</td>\n",
       "      <td>NaN</td>\n",
       "      <td>NaN</td>\n",
       "    </tr>\n",
       "    <tr>\n",
       "      <th>5571</th>\n",
       "      <td>ham</td>\n",
       "      <td>Rofl. Its true to its name</td>\n",
       "      <td>NaN</td>\n",
       "      <td>NaN</td>\n",
       "      <td>NaN</td>\n",
       "    </tr>\n",
       "  </tbody>\n",
       "</table>\n",
       "</div>"
      ],
      "text/plain": [
       "        v1                                                 v2 Unnamed: 2  \\\n",
       "5567  spam  This is the 2nd time we have tried 2 contact u...        NaN   \n",
       "5568   ham              Will Ì_ b going to esplanade fr home?        NaN   \n",
       "5569   ham  Pity, * was in mood for that. So...any other s...        NaN   \n",
       "5570   ham  The guy did some bitching but I acted like i'd...        NaN   \n",
       "5571   ham                         Rofl. Its true to its name        NaN   \n",
       "\n",
       "     Unnamed: 3 Unnamed: 4  \n",
       "5567        NaN        NaN  \n",
       "5568        NaN        NaN  \n",
       "5569        NaN        NaN  \n",
       "5570        NaN        NaN  \n",
       "5571        NaN        NaN  "
      ]
     },
     "execution_count": 7,
     "metadata": {},
     "output_type": "execute_result"
    }
   ],
   "source": [
    "df.tail()"
   ]
  },
  {
   "cell_type": "code",
   "execution_count": 8,
   "id": "b5d26be5",
   "metadata": {},
   "outputs": [
    {
     "data": {
      "text/html": [
       "<div>\n",
       "<style scoped>\n",
       "    .dataframe tbody tr th:only-of-type {\n",
       "        vertical-align: middle;\n",
       "    }\n",
       "\n",
       "    .dataframe tbody tr th {\n",
       "        vertical-align: top;\n",
       "    }\n",
       "\n",
       "    .dataframe thead th {\n",
       "        text-align: right;\n",
       "    }\n",
       "</style>\n",
       "<table border=\"1\" class=\"dataframe\">\n",
       "  <thead>\n",
       "    <tr style=\"text-align: right;\">\n",
       "      <th></th>\n",
       "      <th>v1</th>\n",
       "      <th>v2</th>\n",
       "      <th>Unnamed: 2</th>\n",
       "      <th>Unnamed: 3</th>\n",
       "      <th>Unnamed: 4</th>\n",
       "    </tr>\n",
       "  </thead>\n",
       "  <tbody>\n",
       "    <tr>\n",
       "      <th>1376</th>\n",
       "      <td>ham</td>\n",
       "      <td>Auntie huai juan never pick up her phone</td>\n",
       "      <td>NaN</td>\n",
       "      <td>NaN</td>\n",
       "      <td>NaN</td>\n",
       "    </tr>\n",
       "    <tr>\n",
       "      <th>1625</th>\n",
       "      <td>ham</td>\n",
       "      <td>Hi Dear Call me its urgnt. I don't know whats ...</td>\n",
       "      <td>NaN</td>\n",
       "      <td>NaN</td>\n",
       "      <td>NaN</td>\n",
       "    </tr>\n",
       "    <tr>\n",
       "      <th>4932</th>\n",
       "      <td>ham</td>\n",
       "      <td>Once free call me sir.</td>\n",
       "      <td>NaN</td>\n",
       "      <td>NaN</td>\n",
       "      <td>NaN</td>\n",
       "    </tr>\n",
       "    <tr>\n",
       "      <th>171</th>\n",
       "      <td>ham</td>\n",
       "      <td>Hmmm.. Thk sure got time to hop ard... Ya, can...</td>\n",
       "      <td>NaN</td>\n",
       "      <td>NaN</td>\n",
       "      <td>NaN</td>\n",
       "    </tr>\n",
       "    <tr>\n",
       "      <th>4148</th>\n",
       "      <td>ham</td>\n",
       "      <td>Haven't found a way to get another app for you...</td>\n",
       "      <td>NaN</td>\n",
       "      <td>NaN</td>\n",
       "      <td>NaN</td>\n",
       "    </tr>\n",
       "  </tbody>\n",
       "</table>\n",
       "</div>"
      ],
      "text/plain": [
       "       v1                                                 v2 Unnamed: 2  \\\n",
       "1376  ham           Auntie huai juan never pick up her phone        NaN   \n",
       "1625  ham  Hi Dear Call me its urgnt. I don't know whats ...        NaN   \n",
       "4932  ham                             Once free call me sir.        NaN   \n",
       "171   ham  Hmmm.. Thk sure got time to hop ard... Ya, can...        NaN   \n",
       "4148  ham  Haven't found a way to get another app for you...        NaN   \n",
       "\n",
       "     Unnamed: 3 Unnamed: 4  \n",
       "1376        NaN        NaN  \n",
       "1625        NaN        NaN  \n",
       "4932        NaN        NaN  \n",
       "171         NaN        NaN  \n",
       "4148        NaN        NaN  "
      ]
     },
     "execution_count": 8,
     "metadata": {},
     "output_type": "execute_result"
    }
   ],
   "source": [
    "df.sample(5)"
   ]
  },
  {
   "cell_type": "code",
   "execution_count": 9,
   "id": "c4e76b19",
   "metadata": {},
   "outputs": [
    {
     "data": {
      "text/plain": [
       "(5572, 5)"
      ]
     },
     "execution_count": 9,
     "metadata": {},
     "output_type": "execute_result"
    }
   ],
   "source": [
    "df.shape"
   ]
  },
  {
   "cell_type": "code",
   "execution_count": 10,
   "id": "da849f4f",
   "metadata": {},
   "outputs": [
    {
     "name": "stdout",
     "output_type": "stream",
     "text": [
      "<class 'pandas.core.frame.DataFrame'>\n",
      "RangeIndex: 5572 entries, 0 to 5571\n",
      "Data columns (total 5 columns):\n",
      " #   Column      Non-Null Count  Dtype \n",
      "---  ------      --------------  ----- \n",
      " 0   v1          5572 non-null   object\n",
      " 1   v2          5572 non-null   object\n",
      " 2   Unnamed: 2  50 non-null     object\n",
      " 3   Unnamed: 3  12 non-null     object\n",
      " 4   Unnamed: 4  6 non-null      object\n",
      "dtypes: object(5)\n",
      "memory usage: 217.8+ KB\n"
     ]
    }
   ],
   "source": [
    "df.info()"
   ]
  },
  {
   "cell_type": "code",
   "execution_count": 11,
   "id": "e608bdf0",
   "metadata": {},
   "outputs": [
    {
     "data": {
      "text/plain": [
       "<Axes: >"
      ]
     },
     "execution_count": 11,
     "metadata": {},
     "output_type": "execute_result"
    },
    {
     "data": {
      "image/png": "[encoded data removed]",
      "text/plain": [
       "<Figure size 640x480 with 2 Axes>"
      ]
     },
     "metadata": {},
     "output_type": "display_data"
    }
   ],
   "source": [
    "sb.heatmap(df.isnull(),cbar=True,cmap=\"rainbow\")"
   ]
  },
  {
   "cell_type": "code",
   "execution_count": 12,
   "id": "e368e8d4",
   "metadata": {},
   "outputs": [
    {
     "data": {
      "text/plain": [
       "v1               0\n",
       "v2               0\n",
       "Unnamed: 2    5522\n",
       "Unnamed: 3    5560\n",
       "Unnamed: 4    5566\n",
       "dtype: int64"
      ]
     },
     "execution_count": 12,
     "metadata": {},
     "output_type": "execute_result"
    }
   ],
   "source": [
    "df.isnull().sum()"
   ]
  },
  {
   "cell_type": "code",
   "execution_count": 13,
   "id": "dc04bfae",
   "metadata": {},
   "outputs": [],
   "source": [
    "df = df.drop([\"Unnamed: 2\",\"Unnamed: 3\",\"Unnamed: 4\"],axis = 1)"
   ]
  },
  {
   "cell_type": "code",
   "execution_count": 14,
   "id": "8b059440",
   "metadata": {},
   "outputs": [
    {
     "data": {
      "text/html": [
       "<div>\n",
       "<style scoped>\n",
       "    .dataframe tbody tr th:only-of-type {\n",
       "        vertical-align: middle;\n",
       "    }\n",
       "\n",
       "    .dataframe tbody tr th {\n",
       "        vertical-align: top;\n",
       "    }\n",
       "\n",
       "    .dataframe thead th {\n",
       "        text-align: right;\n",
       "    }\n",
       "</style>\n",
       "<table border=\"1\" class=\"dataframe\">\n",
       "  <thead>\n",
       "    <tr style=\"text-align: right;\">\n",
       "      <th></th>\n",
       "      <th>v1</th>\n",
       "      <th>v2</th>\n",
       "    </tr>\n",
       "  </thead>\n",
       "  <tbody>\n",
       "    <tr>\n",
       "      <th>0</th>\n",
       "      <td>ham</td>\n",
       "      <td>Go until jurong point, crazy.. Available only ...</td>\n",
       "    </tr>\n",
       "    <tr>\n",
       "      <th>1</th>\n",
       "      <td>ham</td>\n",
       "      <td>Ok lar... Joking wif u oni...</td>\n",
       "    </tr>\n",
       "    <tr>\n",
       "      <th>2</th>\n",
       "      <td>spam</td>\n",
       "      <td>Free entry in 2 a wkly comp to win FA Cup fina...</td>\n",
       "    </tr>\n",
       "    <tr>\n",
       "      <th>3</th>\n",
       "      <td>ham</td>\n",
       "      <td>U dun say so early hor... U c already then say...</td>\n",
       "    </tr>\n",
       "    <tr>\n",
       "      <th>4</th>\n",
       "      <td>ham</td>\n",
       "      <td>Nah I don't think he goes to usf, he lives aro...</td>\n",
       "    </tr>\n",
       "  </tbody>\n",
       "</table>\n",
       "</div>"
      ],
      "text/plain": [
       "     v1                                                 v2\n",
       "0   ham  Go until jurong point, crazy.. Available only ...\n",
       "1   ham                      Ok lar... Joking wif u oni...\n",
       "2  spam  Free entry in 2 a wkly comp to win FA Cup fina...\n",
       "3   ham  U dun say so early hor... U c already then say...\n",
       "4   ham  Nah I don't think he goes to usf, he lives aro..."
      ]
     },
     "execution_count": 14,
     "metadata": {},
     "output_type": "execute_result"
    }
   ],
   "source": [
    "df.head()"
   ]
  },
  {
   "cell_type": "code",
   "execution_count": 15,
   "id": "8128de8f",
   "metadata": {},
   "outputs": [],
   "source": [
    "df = df.rename({\"v1\":\"Label\",\"v2\":\"Massages\"},axis = 1)"
   ]
  },
  {
   "cell_type": "code",
   "execution_count": 16,
   "id": "8fd37cd9",
   "metadata": {},
   "outputs": [
    {
     "data": {
      "text/html": [
       "<div>\n",
       "<style scoped>\n",
       "    .dataframe tbody tr th:only-of-type {\n",
       "        vertical-align: middle;\n",
       "    }\n",
       "\n",
       "    .dataframe tbody tr th {\n",
       "        vertical-align: top;\n",
       "    }\n",
       "\n",
       "    .dataframe thead th {\n",
       "        text-align: right;\n",
       "    }\n",
       "</style>\n",
       "<table border=\"1\" class=\"dataframe\">\n",
       "  <thead>\n",
       "    <tr style=\"text-align: right;\">\n",
       "      <th></th>\n",
       "      <th>Label</th>\n",
       "      <th>Massages</th>\n",
       "    </tr>\n",
       "  </thead>\n",
       "  <tbody>\n",
       "    <tr>\n",
       "      <th>0</th>\n",
       "      <td>ham</td>\n",
       "      <td>Go until jurong point, crazy.. Available only ...</td>\n",
       "    </tr>\n",
       "    <tr>\n",
       "      <th>1</th>\n",
       "      <td>ham</td>\n",
       "      <td>Ok lar... Joking wif u oni...</td>\n",
       "    </tr>\n",
       "    <tr>\n",
       "      <th>2</th>\n",
       "      <td>spam</td>\n",
       "      <td>Free entry in 2 a wkly comp to win FA Cup fina...</td>\n",
       "    </tr>\n",
       "    <tr>\n",
       "      <th>3</th>\n",
       "      <td>ham</td>\n",
       "      <td>U dun say so early hor... U c already then say...</td>\n",
       "    </tr>\n",
       "    <tr>\n",
       "      <th>4</th>\n",
       "      <td>ham</td>\n",
       "      <td>Nah I don't think he goes to usf, he lives aro...</td>\n",
       "    </tr>\n",
       "  </tbody>\n",
       "</table>\n",
       "</div>"
      ],
      "text/plain": [
       "  Label                                           Massages\n",
       "0   ham  Go until jurong point, crazy.. Available only ...\n",
       "1   ham                      Ok lar... Joking wif u oni...\n",
       "2  spam  Free entry in 2 a wkly comp to win FA Cup fina...\n",
       "3   ham  U dun say so early hor... U c already then say...\n",
       "4   ham  Nah I don't think he goes to usf, he lives aro..."
      ]
     },
     "execution_count": 16,
     "metadata": {},
     "output_type": "execute_result"
    }
   ],
   "source": [
    "df.head()"
   ]
  },
  {
   "cell_type": "code",
   "execution_count": 17,
   "id": "b9d394d6",
   "metadata": {},
   "outputs": [
    {
     "data": {
      "text/plain": [
       "403"
      ]
     },
     "execution_count": 17,
     "metadata": {},
     "output_type": "execute_result"
    }
   ],
   "source": [
    "df.duplicated().sum()"
   ]
  },
  {
   "cell_type": "code",
   "execution_count": 18,
   "id": "f9c5c3ea",
   "metadata": {},
   "outputs": [],
   "source": [
    "df = df.drop_duplicates()"
   ]
  },
  {
   "cell_type": "code",
   "execution_count": 19,
   "id": "0b9b3e0e",
   "metadata": {},
   "outputs": [
    {
     "data": {
      "text/plain": [
       "0"
      ]
     },
     "execution_count": 19,
     "metadata": {},
     "output_type": "execute_result"
    }
   ],
   "source": [
    "df.duplicated().sum()"
   ]
  },
  {
   "cell_type": "code",
   "execution_count": 20,
   "id": "d8609e2c",
   "metadata": {},
   "outputs": [
    {
     "data": {
      "text/plain": [
       "(5169, 2)"
      ]
     },
     "execution_count": 20,
     "metadata": {},
     "output_type": "execute_result"
    }
   ],
   "source": [
    "df.shape"
   ]
  },
  {
   "cell_type": "code",
   "execution_count": 21,
   "id": "c693ea9c",
   "metadata": {},
   "outputs": [
    {
     "data": {
      "text/plain": [
       "<Axes: xlabel='Label', ylabel='count'>"
      ]
     },
     "execution_count": 21,
     "metadata": {},
     "output_type": "execute_result"
    },
    {
     "data": {
      "image/png": "[encoded data removed]",
      "text/plain": [
       "<Figure size 640x480 with 1 Axes>"
      ]
     },
     "metadata": {},
     "output_type": "display_data"
    }
   ],
   "source": [
    "sb.countplot(x = \"Label\",data = df)"
   ]
  },
  {
   "cell_type": "code",
   "execution_count": 22,
   "id": "c504caa9",
   "metadata": {},
   "outputs": [
    {
     "data": {
      "text/plain": [
       "ham     4516\n",
       "spam     653\n",
       "Name: Label, dtype: int64"
      ]
     },
     "execution_count": 22,
     "metadata": {},
     "output_type": "execute_result"
    }
   ],
   "source": [
    "df[\"Label\"].value_counts()"
   ]
  },
  {
   "cell_type": "code",
   "execution_count": 23,
   "id": "cb145a4b",
   "metadata": {},
   "outputs": [
    {
     "data": {
      "image/png": "[encoded data removed]",
      "text/plain": [
       "<Figure size 640x480 with 1 Axes>"
      ]
     },
     "metadata": {},
     "output_type": "display_data"
    }
   ],
   "source": [
    "mpl.pie(df[\"Label\"].value_counts(),labels= [\"ham\",\"spam\"],)\n",
    "mpl.show()"
   ]
  },
  {
   "cell_type": "code",
   "execution_count": 24,
   "id": "f772c79e",
   "metadata": {},
   "outputs": [],
   "source": [
    "df[\"Massages\"] = df[\"Massages\"].str.lower()"
   ]
  },
  {
   "cell_type": "code",
   "execution_count": 25,
   "id": "75cb9310",
   "metadata": {},
   "outputs": [
    {
     "data": {
      "text/plain": [
       "'go until jurong point, crazy.. available only in bugis n great world la e buffet... cine there got amore wat...'"
      ]
     },
     "execution_count": 25,
     "metadata": {},
     "output_type": "execute_result"
    }
   ],
   "source": [
    "df[\"Massages\"][0]"
   ]
  },
  {
   "cell_type": "code",
   "execution_count": 26,
   "id": "cc43e80b",
   "metadata": {},
   "outputs": [
    {
     "name": "stdout",
     "output_type": "stream",
     "text": [
      "!\"#$%&'()*+,-./:;<=>?@[\\]^_`{|}~\n"
     ]
    }
   ],
   "source": [
    "import string\n",
    "punc = string.punctuation\n",
    "print(punc)"
   ]
  },
  {
   "cell_type": "code",
   "execution_count": 27,
   "id": "0d3f08fd",
   "metadata": {},
   "outputs": [],
   "source": [
    "def rem_punc(text):\n",
    "    txt = [i for i in text if i not in punc]\n",
    "    return \"\".join(txt)"
   ]
  },
  {
   "cell_type": "code",
   "execution_count": 28,
   "id": "e2b209b6",
   "metadata": {},
   "outputs": [],
   "source": [
    "df[\"Massages\"] = df[\"Massages\"].apply(rem_punc)"
   ]
  },
  {
   "cell_type": "code",
   "execution_count": 29,
   "id": "aaed60b0",
   "metadata": {},
   "outputs": [
    {
     "data": {
      "text/plain": [
       "'go until jurong point crazy available only in bugis n great world la e buffet cine there got amore wat'"
      ]
     },
     "execution_count": 29,
     "metadata": {},
     "output_type": "execute_result"
    }
   ],
   "source": [
    "df[\"Massages\"][0]"
   ]
  },
  {
   "cell_type": "code",
   "execution_count": 30,
   "id": "d147d261",
   "metadata": {},
   "outputs": [],
   "source": [
    "import nltk"
   ]
  },
  {
   "cell_type": "code",
   "execution_count": 31,
   "id": "84373e1c",
   "metadata": {},
   "outputs": [],
   "source": [
    "from nltk.corpus import stopwords"
   ]
  },
  {
   "cell_type": "code",
   "execution_count": 32,
   "id": "e9338d02",
   "metadata": {},
   "outputs": [
    {
     "name": "stderr",
     "output_type": "stream",
     "text": [
      "[nltk_data] Downloading package stopwords to\n",
      "[nltk_data]     C:\\Users\\Lenovo\\AppData\\Roaming\\nltk_data...\n",
      "[nltk_data]   Package stopwords is already up-to-date!\n"
     ]
    },
    {
     "data": {
      "text/plain": [
       "True"
      ]
     },
     "execution_count": 32,
     "metadata": {},
     "output_type": "execute_result"
    }
   ],
   "source": [
    "nltk.download(\"stopwords\")"
   ]
  },
  {
   "cell_type": "code",
   "execution_count": 33,
   "id": "721b3320",
   "metadata": {},
   "outputs": [],
   "source": [
    "stopwords=nltk.corpus.stopwords.words('english')"
   ]
  },
  {
   "cell_type": "code",
   "execution_count": 34,
   "id": "ec416aba",
   "metadata": {},
   "outputs": [
    {
     "data": {
      "text/plain": [
       "['i',\n",
       " 'me',\n",
       " 'my',\n",
       " 'myself',\n",
       " 'we',\n",
       " 'our',\n",
       " 'ours',\n",
       " 'ourselves',\n",
       " 'you',\n",
       " \"you're\",\n",
       " \"you've\",\n",
       " \"you'll\",\n",
       " \"you'd\",\n",
       " 'your',\n",
       " 'yours',\n",
       " 'yourself',\n",
       " 'yourselves',\n",
       " 'he',\n",
       " 'him',\n",
       " 'his',\n",
       " 'himself',\n",
       " 'she',\n",
       " \"she's\",\n",
       " 'her',\n",
       " 'hers',\n",
       " 'herself',\n",
       " 'it',\n",
       " \"it's\",\n",
       " 'its',\n",
       " 'itself',\n",
       " 'they',\n",
       " 'them',\n",
       " 'their',\n",
       " 'theirs',\n",
       " 'themselves',\n",
       " 'what',\n",
       " 'which',\n",
       " 'who',\n",
       " 'whom',\n",
       " 'this',\n",
       " 'that',\n",
       " \"that'll\",\n",
       " 'these',\n",
       " 'those',\n",
       " 'am',\n",
       " 'is',\n",
       " 'are',\n",
       " 'was',\n",
       " 'were',\n",
       " 'be',\n",
       " 'been',\n",
       " 'being',\n",
       " 'have',\n",
       " 'has',\n",
       " 'had',\n",
       " 'having',\n",
       " 'do',\n",
       " 'does',\n",
       " 'did',\n",
       " 'doing',\n",
       " 'a',\n",
       " 'an',\n",
       " 'the',\n",
       " 'and',\n",
       " 'but',\n",
       " 'if',\n",
       " 'or',\n",
       " 'because',\n",
       " 'as',\n",
       " 'until',\n",
       " 'while',\n",
       " 'of',\n",
       " 'at',\n",
       " 'by',\n",
       " 'for',\n",
       " 'with',\n",
       " 'about',\n",
       " 'against',\n",
       " 'between',\n",
       " 'into',\n",
       " 'through',\n",
       " 'during',\n",
       " 'before',\n",
       " 'after',\n",
       " 'above',\n",
       " 'below',\n",
       " 'to',\n",
       " 'from',\n",
       " 'up',\n",
       " 'down',\n",
       " 'in',\n",
       " 'out',\n",
       " 'on',\n",
       " 'off',\n",
       " 'over',\n",
       " 'under',\n",
       " 'again',\n",
       " 'further',\n",
       " 'then',\n",
       " 'once',\n",
       " 'here',\n",
       " 'there',\n",
       " 'when',\n",
       " 'where',\n",
       " 'why',\n",
       " 'how',\n",
       " 'all',\n",
       " 'any',\n",
       " 'both',\n",
       " 'each',\n",
       " 'few',\n",
       " 'more',\n",
       " 'most',\n",
       " 'other',\n",
       " 'some',\n",
       " 'such',\n",
       " 'no',\n",
       " 'nor',\n",
       " 'not',\n",
       " 'only',\n",
       " 'own',\n",
       " 'same',\n",
       " 'so',\n",
       " 'than',\n",
       " 'too',\n",
       " 'very',\n",
       " 's',\n",
       " 't',\n",
       " 'can',\n",
       " 'will',\n",
       " 'just',\n",
       " 'don',\n",
       " \"don't\",\n",
       " 'should',\n",
       " \"should've\",\n",
       " 'now',\n",
       " 'd',\n",
       " 'll',\n",
       " 'm',\n",
       " 'o',\n",
       " 're',\n",
       " 've',\n",
       " 'y',\n",
       " 'ain',\n",
       " 'aren',\n",
       " \"aren't\",\n",
       " 'couldn',\n",
       " \"couldn't\",\n",
       " 'didn',\n",
       " \"didn't\",\n",
       " 'doesn',\n",
       " \"doesn't\",\n",
       " 'hadn',\n",
       " \"hadn't\",\n",
       " 'hasn',\n",
       " \"hasn't\",\n",
       " 'haven',\n",
       " \"haven't\",\n",
       " 'isn',\n",
       " \"isn't\",\n",
       " 'ma',\n",
       " 'mightn',\n",
       " \"mightn't\",\n",
       " 'mustn',\n",
       " \"mustn't\",\n",
       " 'needn',\n",
       " \"needn't\",\n",
       " 'shan',\n",
       " \"shan't\",\n",
       " 'shouldn',\n",
       " \"shouldn't\",\n",
       " 'wasn',\n",
       " \"wasn't\",\n",
       " 'weren',\n",
       " \"weren't\",\n",
       " 'won',\n",
       " \"won't\",\n",
       " 'wouldn',\n",
       " \"wouldn't\"]"
      ]
     },
     "execution_count": 34,
     "metadata": {},
     "output_type": "execute_result"
    }
   ],
   "source": [
    "stopwords"
   ]
  },
  {
   "cell_type": "code",
   "execution_count": 35,
   "id": "f1fb984c",
   "metadata": {},
   "outputs": [],
   "source": [
    "def rem_stpword(text):\n",
    "    txt = [i for i in text.split() if i not in stopwords]\n",
    "    return \" \".join(txt)"
   ]
  },
  {
   "cell_type": "code",
   "execution_count": 36,
   "id": "a58c6fda",
   "metadata": {},
   "outputs": [],
   "source": [
    "df[\"Massages\"] = df[\"Massages\"].apply(rem_stpword)"
   ]
  },
  {
   "cell_type": "code",
   "execution_count": 37,
   "id": "2871c93a",
   "metadata": {},
   "outputs": [
    {
     "data": {
      "text/plain": [
       "0       go jurong point crazy available bugis n great ...\n",
       "1                                 ok lar joking wif u oni\n",
       "2       free entry 2 wkly comp win fa cup final tkts 2...\n",
       "3                     u dun say early hor u c already say\n",
       "4             nah dont think goes usf lives around though\n",
       "                              ...                        \n",
       "5567    2nd time tried 2 contact u u å£750 pound prize...\n",
       "5568                          ì b going esplanade fr home\n",
       "5569                          pity mood soany suggestions\n",
       "5570    guy bitching acted like id interested buying s...\n",
       "5571                                       rofl true name\n",
       "Name: Massages, Length: 5169, dtype: object"
      ]
     },
     "execution_count": 37,
     "metadata": {},
     "output_type": "execute_result"
    }
   ],
   "source": [
    "df[\"Massages\"]"
   ]
  },
  {
   "cell_type": "code",
   "execution_count": null,
   "id": "77bfda40",
   "metadata": {},
   "outputs": [],
   "source": []
  },
  {
   "cell_type": "code",
   "execution_count": 38,
   "id": "53e6f76a",
   "metadata": {},
   "outputs": [],
   "source": [
    "df[\"Massages_alphabets\"] = df[\"Massages\"].apply(len)"
   ]
  },
  {
   "cell_type": "code",
   "execution_count": 39,
   "id": "679a66da",
   "metadata": {},
   "outputs": [
    {
     "data": {
      "text/html": [
       "<div>\n",
       "<style scoped>\n",
       "    .dataframe tbody tr th:only-of-type {\n",
       "        vertical-align: middle;\n",
       "    }\n",
       "\n",
       "    .dataframe tbody tr th {\n",
       "        vertical-align: top;\n",
       "    }\n",
       "\n",
       "    .dataframe thead th {\n",
       "        text-align: right;\n",
       "    }\n",
       "</style>\n",
       "<table border=\"1\" class=\"dataframe\">\n",
       "  <thead>\n",
       "    <tr style=\"text-align: right;\">\n",
       "      <th></th>\n",
       "      <th>Label</th>\n",
       "      <th>Massages</th>\n",
       "      <th>Massages_alphabets</th>\n",
       "    </tr>\n",
       "  </thead>\n",
       "  <tbody>\n",
       "    <tr>\n",
       "      <th>0</th>\n",
       "      <td>ham</td>\n",
       "      <td>go jurong point crazy available bugis n great ...</td>\n",
       "      <td>82</td>\n",
       "    </tr>\n",
       "    <tr>\n",
       "      <th>1</th>\n",
       "      <td>ham</td>\n",
       "      <td>ok lar joking wif u oni</td>\n",
       "      <td>23</td>\n",
       "    </tr>\n",
       "    <tr>\n",
       "      <th>2</th>\n",
       "      <td>spam</td>\n",
       "      <td>free entry 2 wkly comp win fa cup final tkts 2...</td>\n",
       "      <td>135</td>\n",
       "    </tr>\n",
       "    <tr>\n",
       "      <th>3</th>\n",
       "      <td>ham</td>\n",
       "      <td>u dun say early hor u c already say</td>\n",
       "      <td>35</td>\n",
       "    </tr>\n",
       "    <tr>\n",
       "      <th>4</th>\n",
       "      <td>ham</td>\n",
       "      <td>nah dont think goes usf lives around though</td>\n",
       "      <td>43</td>\n",
       "    </tr>\n",
       "  </tbody>\n",
       "</table>\n",
       "</div>"
      ],
      "text/plain": [
       "  Label                                           Massages  Massages_alphabets\n",
       "0   ham  go jurong point crazy available bugis n great ...                  82\n",
       "1   ham                            ok lar joking wif u oni                  23\n",
       "2  spam  free entry 2 wkly comp win fa cup final tkts 2...                 135\n",
       "3   ham                u dun say early hor u c already say                  35\n",
       "4   ham        nah dont think goes usf lives around though                  43"
      ]
     },
     "execution_count": 39,
     "metadata": {},
     "output_type": "execute_result"
    }
   ],
   "source": [
    "df.head()"
   ]
  },
  {
   "cell_type": "code",
   "execution_count": 40,
   "id": "6770c85d",
   "metadata": {},
   "outputs": [],
   "source": [
    "df[\"Msg_word_count\"] = df[\"Massages\"].apply(lambda x: len(x.split()))"
   ]
  },
  {
   "cell_type": "code",
   "execution_count": 41,
   "id": "7b08c08c",
   "metadata": {},
   "outputs": [],
   "source": [
    "from nltk.tokenize import sent_tokenize"
   ]
  },
  {
   "cell_type": "code",
   "execution_count": 42,
   "id": "a95efed7",
   "metadata": {},
   "outputs": [],
   "source": [
    "df[\"Msg_sen_count\"] = df[\"Massages\"].apply(lambda x: len(sent_tokenize(x)))"
   ]
  },
  {
   "cell_type": "code",
   "execution_count": 43,
   "id": "5ea506fd",
   "metadata": {},
   "outputs": [
    {
     "data": {
      "text/html": [
       "<div>\n",
       "<style scoped>\n",
       "    .dataframe tbody tr th:only-of-type {\n",
       "        vertical-align: middle;\n",
       "    }\n",
       "\n",
       "    .dataframe tbody tr th {\n",
       "        vertical-align: top;\n",
       "    }\n",
       "\n",
       "    .dataframe thead th {\n",
       "        text-align: right;\n",
       "    }\n",
       "</style>\n",
       "<table border=\"1\" class=\"dataframe\">\n",
       "  <thead>\n",
       "    <tr style=\"text-align: right;\">\n",
       "      <th></th>\n",
       "      <th>Label</th>\n",
       "      <th>Massages</th>\n",
       "      <th>Massages_alphabets</th>\n",
       "      <th>Msg_word_count</th>\n",
       "      <th>Msg_sen_count</th>\n",
       "    </tr>\n",
       "  </thead>\n",
       "  <tbody>\n",
       "    <tr>\n",
       "      <th>0</th>\n",
       "      <td>ham</td>\n",
       "      <td>go jurong point crazy available bugis n great ...</td>\n",
       "      <td>82</td>\n",
       "      <td>16</td>\n",
       "      <td>1</td>\n",
       "    </tr>\n",
       "    <tr>\n",
       "      <th>1</th>\n",
       "      <td>ham</td>\n",
       "      <td>ok lar joking wif u oni</td>\n",
       "      <td>23</td>\n",
       "      <td>6</td>\n",
       "      <td>1</td>\n",
       "    </tr>\n",
       "    <tr>\n",
       "      <th>2</th>\n",
       "      <td>spam</td>\n",
       "      <td>free entry 2 wkly comp win fa cup final tkts 2...</td>\n",
       "      <td>135</td>\n",
       "      <td>23</td>\n",
       "      <td>1</td>\n",
       "    </tr>\n",
       "  </tbody>\n",
       "</table>\n",
       "</div>"
      ],
      "text/plain": [
       "  Label                                           Massages  \\\n",
       "0   ham  go jurong point crazy available bugis n great ...   \n",
       "1   ham                            ok lar joking wif u oni   \n",
       "2  spam  free entry 2 wkly comp win fa cup final tkts 2...   \n",
       "\n",
       "   Massages_alphabets  Msg_word_count  Msg_sen_count  \n",
       "0                  82              16              1  \n",
       "1                  23               6              1  \n",
       "2                 135              23              1  "
      ]
     },
     "execution_count": 43,
     "metadata": {},
     "output_type": "execute_result"
    }
   ],
   "source": [
    "df.head(3)"
   ]
  },
  {
   "cell_type": "code",
   "execution_count": 44,
   "id": "f85ab547",
   "metadata": {},
   "outputs": [
    {
     "data": {
      "text/html": [
       "<div>\n",
       "<style scoped>\n",
       "    .dataframe tbody tr th:only-of-type {\n",
       "        vertical-align: middle;\n",
       "    }\n",
       "\n",
       "    .dataframe tbody tr th {\n",
       "        vertical-align: top;\n",
       "    }\n",
       "\n",
       "    .dataframe thead th {\n",
       "        text-align: right;\n",
       "    }\n",
       "</style>\n",
       "<table border=\"1\" class=\"dataframe\">\n",
       "  <thead>\n",
       "    <tr style=\"text-align: right;\">\n",
       "      <th></th>\n",
       "      <th>Massages_alphabets</th>\n",
       "      <th>Msg_word_count</th>\n",
       "      <th>Msg_sen_count</th>\n",
       "    </tr>\n",
       "  </thead>\n",
       "  <tbody>\n",
       "    <tr>\n",
       "      <th>count</th>\n",
       "      <td>5169.000000</td>\n",
       "      <td>5169.000000</td>\n",
       "      <td>5169.000000</td>\n",
       "    </tr>\n",
       "    <tr>\n",
       "      <th>mean</th>\n",
       "      <td>52.837299</td>\n",
       "      <td>9.234862</td>\n",
       "      <td>0.999033</td>\n",
       "    </tr>\n",
       "    <tr>\n",
       "      <th>std</th>\n",
       "      <td>40.955405</td>\n",
       "      <td>6.726968</td>\n",
       "      <td>0.031089</td>\n",
       "    </tr>\n",
       "    <tr>\n",
       "      <th>min</th>\n",
       "      <td>0.000000</td>\n",
       "      <td>0.000000</td>\n",
       "      <td>0.000000</td>\n",
       "    </tr>\n",
       "    <tr>\n",
       "      <th>25%</th>\n",
       "      <td>23.000000</td>\n",
       "      <td>4.000000</td>\n",
       "      <td>1.000000</td>\n",
       "    </tr>\n",
       "    <tr>\n",
       "      <th>50%</th>\n",
       "      <td>39.000000</td>\n",
       "      <td>7.000000</td>\n",
       "      <td>1.000000</td>\n",
       "    </tr>\n",
       "    <tr>\n",
       "      <th>75%</th>\n",
       "      <td>76.000000</td>\n",
       "      <td>13.000000</td>\n",
       "      <td>1.000000</td>\n",
       "    </tr>\n",
       "    <tr>\n",
       "      <th>max</th>\n",
       "      <td>516.000000</td>\n",
       "      <td>80.000000</td>\n",
       "      <td>1.000000</td>\n",
       "    </tr>\n",
       "  </tbody>\n",
       "</table>\n",
       "</div>"
      ],
      "text/plain": [
       "       Massages_alphabets  Msg_word_count  Msg_sen_count\n",
       "count         5169.000000     5169.000000    5169.000000\n",
       "mean            52.837299        9.234862       0.999033\n",
       "std             40.955405        6.726968       0.031089\n",
       "min              0.000000        0.000000       0.000000\n",
       "25%             23.000000        4.000000       1.000000\n",
       "50%             39.000000        7.000000       1.000000\n",
       "75%             76.000000       13.000000       1.000000\n",
       "max            516.000000       80.000000       1.000000"
      ]
     },
     "execution_count": 44,
     "metadata": {},
     "output_type": "execute_result"
    }
   ],
   "source": [
    "df.describe()"
   ]
  },
  {
   "cell_type": "code",
   "execution_count": 45,
   "id": "f6f3574d",
   "metadata": {},
   "outputs": [
    {
     "data": {
      "text/html": [
       "<div>\n",
       "<style scoped>\n",
       "    .dataframe tbody tr th:only-of-type {\n",
       "        vertical-align: middle;\n",
       "    }\n",
       "\n",
       "    .dataframe tbody tr th {\n",
       "        vertical-align: top;\n",
       "    }\n",
       "\n",
       "    .dataframe thead th {\n",
       "        text-align: right;\n",
       "    }\n",
       "</style>\n",
       "<table border=\"1\" class=\"dataframe\">\n",
       "  <thead>\n",
       "    <tr style=\"text-align: right;\">\n",
       "      <th></th>\n",
       "      <th>Massages_alphabets</th>\n",
       "      <th>Msg_word_count</th>\n",
       "      <th>Msg_sen_count</th>\n",
       "    </tr>\n",
       "  </thead>\n",
       "  <tbody>\n",
       "    <tr>\n",
       "      <th>count</th>\n",
       "      <td>653.000000</td>\n",
       "      <td>653.000000</td>\n",
       "      <td>653.0</td>\n",
       "    </tr>\n",
       "    <tr>\n",
       "      <th>mean</th>\n",
       "      <td>106.355283</td>\n",
       "      <td>16.548239</td>\n",
       "      <td>1.0</td>\n",
       "    </tr>\n",
       "    <tr>\n",
       "      <th>std</th>\n",
       "      <td>26.654331</td>\n",
       "      <td>4.796428</td>\n",
       "      <td>0.0</td>\n",
       "    </tr>\n",
       "    <tr>\n",
       "      <th>min</th>\n",
       "      <td>12.000000</td>\n",
       "      <td>2.000000</td>\n",
       "      <td>1.0</td>\n",
       "    </tr>\n",
       "    <tr>\n",
       "      <th>25%</th>\n",
       "      <td>96.000000</td>\n",
       "      <td>14.000000</td>\n",
       "      <td>1.0</td>\n",
       "    </tr>\n",
       "    <tr>\n",
       "      <th>50%</th>\n",
       "      <td>112.000000</td>\n",
       "      <td>17.000000</td>\n",
       "      <td>1.0</td>\n",
       "    </tr>\n",
       "    <tr>\n",
       "      <th>75%</th>\n",
       "      <td>124.000000</td>\n",
       "      <td>20.000000</td>\n",
       "      <td>1.0</td>\n",
       "    </tr>\n",
       "    <tr>\n",
       "      <th>max</th>\n",
       "      <td>159.000000</td>\n",
       "      <td>28.000000</td>\n",
       "      <td>1.0</td>\n",
       "    </tr>\n",
       "  </tbody>\n",
       "</table>\n",
       "</div>"
      ],
      "text/plain": [
       "       Massages_alphabets  Msg_word_count  Msg_sen_count\n",
       "count          653.000000      653.000000          653.0\n",
       "mean           106.355283       16.548239            1.0\n",
       "std             26.654331        4.796428            0.0\n",
       "min             12.000000        2.000000            1.0\n",
       "25%             96.000000       14.000000            1.0\n",
       "50%            112.000000       17.000000            1.0\n",
       "75%            124.000000       20.000000            1.0\n",
       "max            159.000000       28.000000            1.0"
      ]
     },
     "execution_count": 45,
     "metadata": {},
     "output_type": "execute_result"
    }
   ],
   "source": [
    "df[df[\"Label\"] == \"spam\"].describe()"
   ]
  },
  {
   "cell_type": "code",
   "execution_count": 46,
   "id": "7527a47d",
   "metadata": {},
   "outputs": [
    {
     "data": {
      "text/html": [
       "<div>\n",
       "<style scoped>\n",
       "    .dataframe tbody tr th:only-of-type {\n",
       "        vertical-align: middle;\n",
       "    }\n",
       "\n",
       "    .dataframe tbody tr th {\n",
       "        vertical-align: top;\n",
       "    }\n",
       "\n",
       "    .dataframe thead th {\n",
       "        text-align: right;\n",
       "    }\n",
       "</style>\n",
       "<table border=\"1\" class=\"dataframe\">\n",
       "  <thead>\n",
       "    <tr style=\"text-align: right;\">\n",
       "      <th></th>\n",
       "      <th>Massages_alphabets</th>\n",
       "      <th>Msg_word_count</th>\n",
       "      <th>Msg_sen_count</th>\n",
       "    </tr>\n",
       "  </thead>\n",
       "  <tbody>\n",
       "    <tr>\n",
       "      <th>count</th>\n",
       "      <td>4516.000000</td>\n",
       "      <td>4516.000000</td>\n",
       "      <td>4516.000000</td>\n",
       "    </tr>\n",
       "    <tr>\n",
       "      <th>mean</th>\n",
       "      <td>45.098760</td>\n",
       "      <td>8.177369</td>\n",
       "      <td>0.998893</td>\n",
       "    </tr>\n",
       "    <tr>\n",
       "      <th>std</th>\n",
       "      <td>36.649723</td>\n",
       "      <td>6.294488</td>\n",
       "      <td>0.033259</td>\n",
       "    </tr>\n",
       "    <tr>\n",
       "      <th>min</th>\n",
       "      <td>0.000000</td>\n",
       "      <td>0.000000</td>\n",
       "      <td>0.000000</td>\n",
       "    </tr>\n",
       "    <tr>\n",
       "      <th>25%</th>\n",
       "      <td>21.000000</td>\n",
       "      <td>4.000000</td>\n",
       "      <td>1.000000</td>\n",
       "    </tr>\n",
       "    <tr>\n",
       "      <th>50%</th>\n",
       "      <td>34.000000</td>\n",
       "      <td>6.000000</td>\n",
       "      <td>1.000000</td>\n",
       "    </tr>\n",
       "    <tr>\n",
       "      <th>75%</th>\n",
       "      <td>59.000000</td>\n",
       "      <td>11.000000</td>\n",
       "      <td>1.000000</td>\n",
       "    </tr>\n",
       "    <tr>\n",
       "      <th>max</th>\n",
       "      <td>516.000000</td>\n",
       "      <td>80.000000</td>\n",
       "      <td>1.000000</td>\n",
       "    </tr>\n",
       "  </tbody>\n",
       "</table>\n",
       "</div>"
      ],
      "text/plain": [
       "       Massages_alphabets  Msg_word_count  Msg_sen_count\n",
       "count         4516.000000     4516.000000    4516.000000\n",
       "mean            45.098760        8.177369       0.998893\n",
       "std             36.649723        6.294488       0.033259\n",
       "min              0.000000        0.000000       0.000000\n",
       "25%             21.000000        4.000000       1.000000\n",
       "50%             34.000000        6.000000       1.000000\n",
       "75%             59.000000       11.000000       1.000000\n",
       "max            516.000000       80.000000       1.000000"
      ]
     },
     "execution_count": 46,
     "metadata": {},
     "output_type": "execute_result"
    }
   ],
   "source": [
    "df[df[\"Label\"] == \"ham\"].describe()"
   ]
  },
  {
   "cell_type": "code",
   "execution_count": 47,
   "id": "b31ebc50",
   "metadata": {},
   "outputs": [],
   "source": [
    "lab = df.groupby(\"Label\")"
   ]
  },
  {
   "cell_type": "code",
   "execution_count": 48,
   "id": "8ebdc7fe",
   "metadata": {},
   "outputs": [
    {
     "data": {
      "text/html": [
       "<div>\n",
       "<style scoped>\n",
       "    .dataframe tbody tr th:only-of-type {\n",
       "        vertical-align: middle;\n",
       "    }\n",
       "\n",
       "    .dataframe tbody tr th {\n",
       "        vertical-align: top;\n",
       "    }\n",
       "\n",
       "    .dataframe thead th {\n",
       "        text-align: right;\n",
       "    }\n",
       "</style>\n",
       "<table border=\"1\" class=\"dataframe\">\n",
       "  <thead>\n",
       "    <tr style=\"text-align: right;\">\n",
       "      <th></th>\n",
       "      <th>Label</th>\n",
       "      <th>ham</th>\n",
       "      <th>spam</th>\n",
       "    </tr>\n",
       "  </thead>\n",
       "  <tbody>\n",
       "    <tr>\n",
       "      <th rowspan=\"8\" valign=\"top\">Massages_alphabets</th>\n",
       "      <th>count</th>\n",
       "      <td>4516.000000</td>\n",
       "      <td>653.000000</td>\n",
       "    </tr>\n",
       "    <tr>\n",
       "      <th>mean</th>\n",
       "      <td>45.098760</td>\n",
       "      <td>106.355283</td>\n",
       "    </tr>\n",
       "    <tr>\n",
       "      <th>std</th>\n",
       "      <td>36.649723</td>\n",
       "      <td>26.654331</td>\n",
       "    </tr>\n",
       "    <tr>\n",
       "      <th>min</th>\n",
       "      <td>0.000000</td>\n",
       "      <td>12.000000</td>\n",
       "    </tr>\n",
       "    <tr>\n",
       "      <th>25%</th>\n",
       "      <td>21.000000</td>\n",
       "      <td>96.000000</td>\n",
       "    </tr>\n",
       "    <tr>\n",
       "      <th>50%</th>\n",
       "      <td>34.000000</td>\n",
       "      <td>112.000000</td>\n",
       "    </tr>\n",
       "    <tr>\n",
       "      <th>75%</th>\n",
       "      <td>59.000000</td>\n",
       "      <td>124.000000</td>\n",
       "    </tr>\n",
       "    <tr>\n",
       "      <th>max</th>\n",
       "      <td>516.000000</td>\n",
       "      <td>159.000000</td>\n",
       "    </tr>\n",
       "    <tr>\n",
       "      <th rowspan=\"8\" valign=\"top\">Msg_word_count</th>\n",
       "      <th>count</th>\n",
       "      <td>4516.000000</td>\n",
       "      <td>653.000000</td>\n",
       "    </tr>\n",
       "    <tr>\n",
       "      <th>mean</th>\n",
       "      <td>8.177369</td>\n",
       "      <td>16.548239</td>\n",
       "    </tr>\n",
       "    <tr>\n",
       "      <th>std</th>\n",
       "      <td>6.294488</td>\n",
       "      <td>4.796428</td>\n",
       "    </tr>\n",
       "    <tr>\n",
       "      <th>min</th>\n",
       "      <td>0.000000</td>\n",
       "      <td>2.000000</td>\n",
       "    </tr>\n",
       "    <tr>\n",
       "      <th>25%</th>\n",
       "      <td>4.000000</td>\n",
       "      <td>14.000000</td>\n",
       "    </tr>\n",
       "    <tr>\n",
       "      <th>50%</th>\n",
       "      <td>6.000000</td>\n",
       "      <td>17.000000</td>\n",
       "    </tr>\n",
       "    <tr>\n",
       "      <th>75%</th>\n",
       "      <td>11.000000</td>\n",
       "      <td>20.000000</td>\n",
       "    </tr>\n",
       "    <tr>\n",
       "      <th>max</th>\n",
       "      <td>80.000000</td>\n",
       "      <td>28.000000</td>\n",
       "    </tr>\n",
       "    <tr>\n",
       "      <th rowspan=\"8\" valign=\"top\">Msg_sen_count</th>\n",
       "      <th>count</th>\n",
       "      <td>4516.000000</td>\n",
       "      <td>653.000000</td>\n",
       "    </tr>\n",
       "    <tr>\n",
       "      <th>mean</th>\n",
       "      <td>0.998893</td>\n",
       "      <td>1.000000</td>\n",
       "    </tr>\n",
       "    <tr>\n",
       "      <th>std</th>\n",
       "      <td>0.033259</td>\n",
       "      <td>0.000000</td>\n",
       "    </tr>\n",
       "    <tr>\n",
       "      <th>min</th>\n",
       "      <td>0.000000</td>\n",
       "      <td>1.000000</td>\n",
       "    </tr>\n",
       "    <tr>\n",
       "      <th>25%</th>\n",
       "      <td>1.000000</td>\n",
       "      <td>1.000000</td>\n",
       "    </tr>\n",
       "    <tr>\n",
       "      <th>50%</th>\n",
       "      <td>1.000000</td>\n",
       "      <td>1.000000</td>\n",
       "    </tr>\n",
       "    <tr>\n",
       "      <th>75%</th>\n",
       "      <td>1.000000</td>\n",
       "      <td>1.000000</td>\n",
       "    </tr>\n",
       "    <tr>\n",
       "      <th>max</th>\n",
       "      <td>1.000000</td>\n",
       "      <td>1.000000</td>\n",
       "    </tr>\n",
       "  </tbody>\n",
       "</table>\n",
       "</div>"
      ],
      "text/plain": [
       "Label                             ham        spam\n",
       "Massages_alphabets count  4516.000000  653.000000\n",
       "                   mean     45.098760  106.355283\n",
       "                   std      36.649723   26.654331\n",
       "                   min       0.000000   12.000000\n",
       "                   25%      21.000000   96.000000\n",
       "                   50%      34.000000  112.000000\n",
       "                   75%      59.000000  124.000000\n",
       "                   max     516.000000  159.000000\n",
       "Msg_word_count     count  4516.000000  653.000000\n",
       "                   mean      8.177369   16.548239\n",
       "                   std       6.294488    4.796428\n",
       "                   min       0.000000    2.000000\n",
       "                   25%       4.000000   14.000000\n",
       "                   50%       6.000000   17.000000\n",
       "                   75%      11.000000   20.000000\n",
       "                   max      80.000000   28.000000\n",
       "Msg_sen_count      count  4516.000000  653.000000\n",
       "                   mean      0.998893    1.000000\n",
       "                   std       0.033259    0.000000\n",
       "                   min       0.000000    1.000000\n",
       "                   25%       1.000000    1.000000\n",
       "                   50%       1.000000    1.000000\n",
       "                   75%       1.000000    1.000000\n",
       "                   max       1.000000    1.000000"
      ]
     },
     "execution_count": 48,
     "metadata": {},
     "output_type": "execute_result"
    }
   ],
   "source": [
    "lab.describe().T"
   ]
  },
  {
   "cell_type": "code",
   "execution_count": null,
   "id": "0b3ecd0f",
   "metadata": {},
   "outputs": [],
   "source": []
  },
  {
   "cell_type": "code",
   "execution_count": 51,
   "id": "5ed73a02",
   "metadata": {},
   "outputs": [
    {
     "data": {
      "image/png": "[encoded data removed]",
      "text/plain": [
       "<Figure size 640x480 with 1 Axes>"
      ]
     },
     "metadata": {},
     "output_type": "display_data"
    }
   ],
   "source": [
    "sb.kdeplot(df[df[\"Label\"] == \"ham\"][\"Massages_alphabets\"])\n",
    "sb.kdeplot(df[df[\"Label\"] == \"spam\"][\"Massages_alphabets\"],color = \"red\")\n",
    "mpl.show()"
   ]
  },
  {
   "cell_type": "code",
   "execution_count": 53,
   "id": "817b962c",
   "metadata": {},
   "outputs": [
    {
     "data": {
      "image/png": "[encoded data removed]",
      "text/plain": [
       "<Figure size 640x480 with 1 Axes>"
      ]
     },
     "metadata": {},
     "output_type": "display_data"
    }
   ],
   "source": [
    "sb.kdeplot(df[df[\"Label\"] == \"ham\"][\"Msg_word_count\"])\n",
    "sb.kdeplot(df[df[\"Label\"] == \"spam\"][\"Msg_word_count\"],color = \"red\")\n",
    "mpl.show()"
   ]
  },
  {
   "cell_type": "code",
   "execution_count": 54,
   "id": "b431446c",
   "metadata": {},
   "outputs": [],
   "source": [
    "df[\"spam\"] = pd.get_dummies(df[\"Label\"],drop_first=True)"
   ]
  },
  {
   "cell_type": "code",
   "execution_count": 55,
   "id": "a594a2b8",
   "metadata": {},
   "outputs": [
    {
     "data": {
      "text/html": [
       "<div>\n",
       "<style scoped>\n",
       "    .dataframe tbody tr th:only-of-type {\n",
       "        vertical-align: middle;\n",
       "    }\n",
       "\n",
       "    .dataframe tbody tr th {\n",
       "        vertical-align: top;\n",
       "    }\n",
       "\n",
       "    .dataframe thead th {\n",
       "        text-align: right;\n",
       "    }\n",
       "</style>\n",
       "<table border=\"1\" class=\"dataframe\">\n",
       "  <thead>\n",
       "    <tr style=\"text-align: right;\">\n",
       "      <th></th>\n",
       "      <th>Label</th>\n",
       "      <th>Massages</th>\n",
       "      <th>Massages_alphabets</th>\n",
       "      <th>Msg_word_count</th>\n",
       "      <th>Msg_sen_count</th>\n",
       "      <th>spam</th>\n",
       "    </tr>\n",
       "  </thead>\n",
       "  <tbody>\n",
       "    <tr>\n",
       "      <th>4588</th>\n",
       "      <td>ham</td>\n",
       "      <td>finished work yet something</td>\n",
       "      <td>27</td>\n",
       "      <td>4</td>\n",
       "      <td>1</td>\n",
       "      <td>0</td>\n",
       "    </tr>\n",
       "    <tr>\n",
       "      <th>3726</th>\n",
       "      <td>ham</td>\n",
       "      <td>aldrine rakhesh ex rtm herepls callurgent</td>\n",
       "      <td>41</td>\n",
       "      <td>6</td>\n",
       "      <td>1</td>\n",
       "      <td>0</td>\n",
       "    </tr>\n",
       "    <tr>\n",
       "      <th>2106</th>\n",
       "      <td>ham</td>\n",
       "      <td>thank like well</td>\n",
       "      <td>15</td>\n",
       "      <td>3</td>\n",
       "      <td>1</td>\n",
       "      <td>0</td>\n",
       "    </tr>\n",
       "  </tbody>\n",
       "</table>\n",
       "</div>"
      ],
      "text/plain": [
       "     Label                                   Massages  Massages_alphabets  \\\n",
       "4588   ham                finished work yet something                  27   \n",
       "3726   ham  aldrine rakhesh ex rtm herepls callurgent                  41   \n",
       "2106   ham                            thank like well                  15   \n",
       "\n",
       "      Msg_word_count  Msg_sen_count  spam  \n",
       "4588               4              1     0  \n",
       "3726               6              1     0  \n",
       "2106               3              1     0  "
      ]
     },
     "execution_count": 55,
     "metadata": {},
     "output_type": "execute_result"
    }
   ],
   "source": [
    "df.sample(3)"
   ]
  },
  {
   "cell_type": "code",
   "execution_count": 56,
   "id": "1b2806f1",
   "metadata": {},
   "outputs": [],
   "source": [
    "df = df.drop([\"Label\",\"Msg_sen_count\"],axis = True)"
   ]
  },
  {
   "cell_type": "code",
   "execution_count": 57,
   "id": "ed45e608",
   "metadata": {},
   "outputs": [
    {
     "data": {
      "text/html": [
       "<div>\n",
       "<style scoped>\n",
       "    .dataframe tbody tr th:only-of-type {\n",
       "        vertical-align: middle;\n",
       "    }\n",
       "\n",
       "    .dataframe tbody tr th {\n",
       "        vertical-align: top;\n",
       "    }\n",
       "\n",
       "    .dataframe thead th {\n",
       "        text-align: right;\n",
       "    }\n",
       "</style>\n",
       "<table border=\"1\" class=\"dataframe\">\n",
       "  <thead>\n",
       "    <tr style=\"text-align: right;\">\n",
       "      <th></th>\n",
       "      <th>Massages_alphabets</th>\n",
       "      <th>Msg_word_count</th>\n",
       "      <th>spam</th>\n",
       "    </tr>\n",
       "  </thead>\n",
       "  <tbody>\n",
       "    <tr>\n",
       "      <th>Massages_alphabets</th>\n",
       "      <td>1.000000</td>\n",
       "      <td>0.964191</td>\n",
       "      <td>0.496947</td>\n",
       "    </tr>\n",
       "    <tr>\n",
       "      <th>Msg_word_count</th>\n",
       "      <td>0.964191</td>\n",
       "      <td>1.000000</td>\n",
       "      <td>0.413447</td>\n",
       "    </tr>\n",
       "    <tr>\n",
       "      <th>spam</th>\n",
       "      <td>0.496947</td>\n",
       "      <td>0.413447</td>\n",
       "      <td>1.000000</td>\n",
       "    </tr>\n",
       "  </tbody>\n",
       "</table>\n",
       "</div>"
      ],
      "text/plain": [
       "                    Massages_alphabets  Msg_word_count      spam\n",
       "Massages_alphabets            1.000000        0.964191  0.496947\n",
       "Msg_word_count                0.964191        1.000000  0.413447\n",
       "spam                          0.496947        0.413447  1.000000"
      ]
     },
     "execution_count": 57,
     "metadata": {},
     "output_type": "execute_result"
    }
   ],
   "source": [
    "df.corr()"
   ]
  },
  {
   "cell_type": "code",
   "execution_count": 58,
   "id": "002d458d",
   "metadata": {},
   "outputs": [],
   "source": [
    "from textblob import TextBlob"
   ]
  },
  {
   "cell_type": "code",
   "execution_count": 59,
   "id": "419219ed",
   "metadata": {},
   "outputs": [],
   "source": [
    "def spel_cor(text):\n",
    "    sen = TextBlob(text)\n",
    "    return sen.correct()"
   ]
  },
  {
   "cell_type": "code",
   "execution_count": 60,
   "id": "5e21d8f2",
   "metadata": {},
   "outputs": [],
   "source": [
    "df[\"Massages\"] = df[\"Massages\"].apply(spel_cor)"
   ]
  },
  {
   "cell_type": "code",
   "execution_count": 61,
   "id": "ccff84d7",
   "metadata": {},
   "outputs": [
    {
     "data": {
      "text/plain": [
       "TextBlob(\"free entry 2 wily come win a cup final this must may 2005 text a 87121 receive entry questions txt rates apply 08452810075over18s\")"
      ]
     },
     "execution_count": 61,
     "metadata": {},
     "output_type": "execute_result"
    }
   ],
   "source": [
    "df[\"Massages\"][2]"
   ]
  },
  {
   "cell_type": "code",
   "execution_count": 62,
   "id": "51e119f3",
   "metadata": {},
   "outputs": [],
   "source": [
    "df[\"Massages\"] = df[\"Massages\"].apply(lambda x : ''.join(x))"
   ]
  },
  {
   "cell_type": "code",
   "execution_count": 63,
   "id": "809d4cce",
   "metadata": {},
   "outputs": [
    {
     "data": {
      "text/plain": [
       "'go during point crazy available boris n great world la e buffets line got more wat'"
      ]
     },
     "execution_count": 63,
     "metadata": {},
     "output_type": "execute_result"
    }
   ],
   "source": [
    "df[\"Massages\"][0]"
   ]
  },
  {
   "cell_type": "code",
   "execution_count": 64,
   "id": "09e4c5ec",
   "metadata": {},
   "outputs": [],
   "source": [
    "import nltk\n",
    "from nltk.tokenize import word_tokenize"
   ]
  },
  {
   "cell_type": "code",
   "execution_count": 65,
   "id": "777d9dd2",
   "metadata": {},
   "outputs": [
    {
     "name": "stderr",
     "output_type": "stream",
     "text": [
      "[nltk_data] Downloading package punkt to\n",
      "[nltk_data]     C:\\Users\\Lenovo\\AppData\\Roaming\\nltk_data...\n",
      "[nltk_data]   Package punkt is already up-to-date!\n"
     ]
    },
    {
     "data": {
      "text/plain": [
       "True"
      ]
     },
     "execution_count": 65,
     "metadata": {},
     "output_type": "execute_result"
    }
   ],
   "source": [
    "nltk.download(\"punkt\")"
   ]
  },
  {
   "cell_type": "code",
   "execution_count": 66,
   "id": "0a477a9e",
   "metadata": {},
   "outputs": [],
   "source": [
    "def token(text):\n",
    "    tok = word_tokenize(text)\n",
    "    return tok"
   ]
  },
  {
   "cell_type": "code",
   "execution_count": 67,
   "id": "3644dda8",
   "metadata": {},
   "outputs": [],
   "source": [
    "df[\"Massages_tok\"] = df[\"Massages\"].apply(token)"
   ]
  },
  {
   "cell_type": "code",
   "execution_count": 68,
   "id": "1db69f6e",
   "metadata": {},
   "outputs": [
    {
     "data": {
      "text/plain": [
       "['go',\n",
       " 'during',\n",
       " 'point',\n",
       " 'crazy',\n",
       " 'available',\n",
       " 'boris',\n",
       " 'n',\n",
       " 'great',\n",
       " 'world',\n",
       " 'la',\n",
       " 'e',\n",
       " 'buffets',\n",
       " 'line',\n",
       " 'got',\n",
       " 'more',\n",
       " 'wat']"
      ]
     },
     "execution_count": 68,
     "metadata": {},
     "output_type": "execute_result"
    }
   ],
   "source": [
    "df[\"Massages_tok\"][0]"
   ]
  },
  {
   "cell_type": "code",
   "execution_count": 69,
   "id": "b7340a72",
   "metadata": {},
   "outputs": [],
   "source": [
    "from nltk.stem import PorterStemmer\n",
    "ps = PorterStemmer()"
   ]
  },
  {
   "cell_type": "code",
   "execution_count": 70,
   "id": "c3aa38b9",
   "metadata": {},
   "outputs": [],
   "source": [
    "def stemmin(text):\n",
    "    txt = [ps.stem(i) for i in text]\n",
    "    return txt"
   ]
  },
  {
   "cell_type": "code",
   "execution_count": 71,
   "id": "f2033c29",
   "metadata": {},
   "outputs": [
    {
     "data": {
      "text/plain": [
       "['go',\n",
       " 'dure',\n",
       " 'point',\n",
       " 'crazi',\n",
       " 'avail',\n",
       " 'bori',\n",
       " 'n',\n",
       " 'great',\n",
       " 'world',\n",
       " 'la',\n",
       " 'e',\n",
       " 'buffet',\n",
       " 'line',\n",
       " 'got',\n",
       " 'more',\n",
       " 'wat']"
      ]
     },
     "execution_count": 71,
     "metadata": {},
     "output_type": "execute_result"
    }
   ],
   "source": [
    "stemmin(df[\"Massages_tok\"][0])"
   ]
  },
  {
   "cell_type": "code",
   "execution_count": 72,
   "id": "d8310d87",
   "metadata": {},
   "outputs": [
    {
     "data": {
      "text/plain": [
       "0       [go, dure, point, crazi, avail, bori, n, great...\n",
       "1                              [ok, war, joke, if, u, on]\n",
       "2       [free, entri, 2, wili, come, win, a, cup, fina...\n",
       "3           [u, dun, say, earli, for, u, c, alreadi, say]\n",
       "4        [ah, dont, think, goe, us, live, around, though]\n",
       "                              ...                        \n",
       "5567    [and, time, tri, 2, contact, u, u, å£750, poun...\n",
       "5568                       [ì, b, go, esplanad, fr, home]\n",
       "5569                           [piti, mood, ani, suggest]\n",
       "5570    [guy, itch, act, like, id, interest, buy, some...\n",
       "5571                                   [roll, true, name]\n",
       "Name: Massages_tok, Length: 5169, dtype: object"
      ]
     },
     "execution_count": 72,
     "metadata": {},
     "output_type": "execute_result"
    }
   ],
   "source": [
    "df[\"Massages_tok\"].apply(stemmin)"
   ]
  },
  {
   "cell_type": "code",
   "execution_count": 73,
   "id": "01c53461",
   "metadata": {},
   "outputs": [],
   "source": [
    "def joint(text):\n",
    "  headline = [i for i in text]\n",
    "  return ' '.join(headline)"
   ]
  },
  {
   "cell_type": "code",
   "execution_count": 74,
   "id": "34f82f65",
   "metadata": {},
   "outputs": [],
   "source": [
    "df[\"Massages_tok\"] = df[\"Massages_tok\"].apply(joint)"
   ]
  },
  {
   "cell_type": "code",
   "execution_count": 75,
   "id": "d51305ec",
   "metadata": {},
   "outputs": [
    {
     "data": {
      "text/plain": [
       "0       go during point crazy available boris n great ...\n",
       "1                                   ok war joking if u on\n",
       "2       free entry 2 wily come win a cup final this mu...\n",
       "3                     u dun say early for u c already say\n",
       "4               ah dont think goes us lives around though\n",
       "                              ...                        \n",
       "5567    and time tried 2 contact u u å£750 pound prize...\n",
       "5568                          ì b going esplanade fr home\n",
       "5569                            pity mood any suggestions\n",
       "5570    guy itching acted like id interested buying so...\n",
       "5571                                       roll true name\n",
       "Name: Massages_tok, Length: 5169, dtype: object"
      ]
     },
     "execution_count": 75,
     "metadata": {},
     "output_type": "execute_result"
    }
   ],
   "source": [
    "df[\"Massages_tok\"] "
   ]
  },
  {
   "cell_type": "code",
   "execution_count": 76,
   "id": "4034eb78",
   "metadata": {},
   "outputs": [],
   "source": [
    "from wordcloud import WordCloud"
   ]
  },
  {
   "cell_type": "code",
   "execution_count": 77,
   "id": "abc2d802",
   "metadata": {},
   "outputs": [],
   "source": [
    "wc = WordCloud(width=500,height=500,background_color=\"white\")"
   ]
  },
  {
   "cell_type": "code",
   "execution_count": 79,
   "id": "2304db99",
   "metadata": {},
   "outputs": [],
   "source": [
    "spam_wc = wc.generate(df[df[\"spam\"] == 1][\"Massages_tok\"].str.cat(sep = \" \"))"
   ]
  },
  {
   "cell_type": "code",
   "execution_count": 80,
   "id": "544538a8",
   "metadata": {},
   "outputs": [
    {
     "data": {
      "text/plain": [
       "<matplotlib.image.AxesImage at 0x243a10dad90>"
      ]
     },
     "execution_count": 80,
     "metadata": {},
     "output_type": "execute_result"
    },
    {
     "data": {
      "image/png": "[encoded data removed]",
      "text/plain": [
       "<Figure size 640x480 with 1 Axes>"
      ]
     },
     "metadata": {},
     "output_type": "display_data"
    }
   ],
   "source": [
    "mpl.imshow(spam_wc)"
   ]
  },
  {
   "cell_type": "code",
   "execution_count": 81,
   "id": "8601002e",
   "metadata": {},
   "outputs": [],
   "source": [
    "not_spam_wc = wc.generate(df[df[\"spam\"] == 0][\"Massages_tok\"].str.cat(sep = \" \"))"
   ]
  },
  {
   "cell_type": "code",
   "execution_count": 82,
   "id": "6248c072",
   "metadata": {},
   "outputs": [
    {
     "data": {
      "text/plain": [
       "<matplotlib.image.AxesImage at 0x243a1393550>"
      ]
     },
     "execution_count": 82,
     "metadata": {},
     "output_type": "execute_result"
    },
    {
     "data": {
      "image/png": "[encoded data removed]",
      "text/plain": [
       "<Figure size 640x480 with 1 Axes>"
      ]
     },
     "metadata": {},
     "output_type": "display_data"
    }
   ],
   "source": [
    "mpl.imshow(not_spam_wc)"
   ]
  },
  {
   "cell_type": "code",
   "execution_count": 83,
   "id": "876a94d9",
   "metadata": {},
   "outputs": [],
   "source": [
    "corpus = []\n",
    "\n",
    "for i in df[\"Massages_tok\"]:\n",
    "    corpus.append(i)"
   ]
  },
  {
   "cell_type": "code",
   "execution_count": null,
   "id": "051c4677",
   "metadata": {},
   "outputs": [],
   "source": []
  },
  {
   "cell_type": "code",
   "execution_count": 84,
   "id": "f3df3ab0",
   "metadata": {},
   "outputs": [
    {
     "data": {
      "text/plain": [
       "['go during point crazy available boris n great world la e buffets line got more wat',\n",
       " 'ok war joking if u on',\n",
       " 'free entry 2 wily come win a cup final this must may 2005 text a 87121 receive entry questions txt rates apply 08452810075over18s',\n",
       " 'u dun say early for u c already say',\n",
       " 'ah dont think goes us lives around though',\n",
       " 'freemen hey darling 3 weeks word back id like fun still to ok xxx st cogs send å£150 rev',\n",
       " 'even brother like speak treat like aids patent',\n",
       " 'per request selle selle or minnaminunginte nurungu vestas set callertune callers press 9 copy friends callertune',\n",
       " 'winner valued network customer selected received å£900 prize reward claim call 09061701461 claim code kl341 valid 12 hours',\n",
       " 'mobile 11 months u r entitled update latest colour mobile camera free call mobile update co free 08002986030',\n",
       " 'in donna home soon dont want talk stuff anymore tonight k give cried enough today',\n",
       " 'six chances win cash 100 20000 pounds txt csh11 send 87575 cost 150pday days 16 stands apply reply he 4 into',\n",
       " 'urgent 1 week free membership å£100000 prize jackson txt word claim 81010 to wwwdbuknet lccltd pobox 4403ldnw1a7rw18',\n",
       " 'give searching right words thank breathe promise wont take help granted fulfil promise wonderful blessing times',\n",
       " 'date sunday',\n",
       " 'xxxmobilemovieclub use credit click was link next txt message click httpwap xxxmobilemovieclubcomnqjkgighjjgcbl',\n",
       " 'oh him watching',\n",
       " 'eh u remember 2 spell name yes v naughty make v wet',\n",
       " 'fine thatåõs way u feel thatåõs way got b',\n",
       " 'england v macedonia dont miss goalsteam news txt or national team 87077 eg england 87077 trywales scotland 4txtì¼120 poboxox36504w45wq 16',\n",
       " 'seriously spell name',\n",
       " 'i\\x89û÷m going try 2 months ha ha joking',\n",
       " 'ì pay first war da stock coming',\n",
       " 'aft finish lunch go sir for and 3 smith for u finish or lunch already',\n",
       " 'ffffffffff alright way meet sooner',\n",
       " 'forced eat slice in really hungry the sucks mark getting worried knows in sick turn penza ll',\n",
       " 'll always convincing',\n",
       " 'catch bus trying egg make tea eating moss left dinner feel love',\n",
       " 'in back amp packing car ill let know there room',\n",
       " 'ah work vaguely remember feel like ll',\n",
       " 'wait that still clear sure sarcastic that x doesn want live us',\n",
       " 'yeah got 2 v apologetic n fallen action like spoils child got caught till 2 wont go badly cheers',\n",
       " 'k tell anything',\n",
       " 'fear fainting homework quick cuba',\n",
       " 'thanks subscription ringtone up mobile charged å£month please confirm replying yes reply charged',\n",
       " 'up ok go home look tidings mug ì xuhui going learn and may lesson am',\n",
       " 'loops ill let know roommates done',\n",
       " 'see letter b car',\n",
       " 'anything for u decide',\n",
       " 'hello how saturday go testing see you decided anything too in trying invite anything',\n",
       " 'pus go ahead wants wanted sure great weekend axilla',\n",
       " 'forget tell want need grave love sweet arabian steed mmmmmm mummy',\n",
       " '07732584351 roger burns mug tried call reply sums free nikita mobile free camcorder please call 08000930705 delivery tomorrow',\n",
       " 'seeing',\n",
       " 'great hope like man well endowed left inches',\n",
       " 'callsmessagesmissed calls',\n",
       " 'didn get he b immunisation siberia',\n",
       " 'fair enough anything going',\n",
       " 'yeah hopefully tyler can could maybe ask around bit',\n",
       " 'u dont know stubborn didn even want go hospital kept telling mark in weak sucked hospitals weak success',\n",
       " 'thanked first time saw class',\n",
       " 'gram usually runs like left half eighth smarter though gets almost whole second gram left',\n",
       " 'k foi x ride early tomorrow morning he crashing place tonight',\n",
       " 'now never realized embarrassed accommodations thought liked since best could always seemed happy cave in sorry didn dont give in sorry offered in sorry room embarrassing',\n",
       " 'sums ac sat new jersey devils detroit red wings play ice hockey correct incorrect end reply end sat',\n",
       " 'know pallida sherawat yesterday find lturlgt',\n",
       " 'congress 1 year special cinema pass 2 call 09061209465 c sherman v matrix starwars3 etc 4 free bx420ip45we 150pm dont miss',\n",
       " 'sorry ill call later meeting',\n",
       " 'tell reached',\n",
       " 'yesgauti shag odd series',\n",
       " 'donna pick 1 burgher way home can even move pain killing',\n",
       " 'ha ha ha good joke girls situation seekers',\n",
       " 'part checking in',\n",
       " 'sorry roommates took forever ok come',\n",
       " 'ok war double check if da hair dresser already said won cut v short said cut look nice',\n",
       " 'valued customer pleased advise following recent review mob awarded å£1500 bonus prize call 09066364589',\n",
       " 'today song dedicated day song u dedicate send or valuable funds first reply',\n",
       " 'urgent or awarded complimentary trip eurodisinc trap acoentry41 å£1000 claim txt dis 87121 186å£150morefrmmob shracomorsglsuplt10 is a',\n",
       " 'hear new divorce bare comes tens stuff',\n",
       " 'plane give month end',\n",
       " 'was lucky man save money he',\n",
       " 'finished class',\n",
       " 'hi babe in home anna something xx',\n",
       " 'where youhow performed',\n",
       " 'u call',\n",
       " 'waiting mahan call free',\n",
       " 'that cool gentleman treat dignity respect',\n",
       " 'like peoples much shy pa',\n",
       " 'operate left',\n",
       " 'still looking job much was earn',\n",
       " 'sorry ill call later',\n",
       " 'k call ah',\n",
       " 'ok way home hi hi',\n",
       " 'place man',\n",
       " 'up next stop',\n",
       " 'call later dont network urgent sums',\n",
       " 'real u getting to need 2 tickets one jacket in done already used multi',\n",
       " 'yes started send requests make pain came back in back bed double coins factory gutta cash nitric',\n",
       " 'in really still tonight babe',\n",
       " 'la knoll download come wen or free',\n",
       " 'yeah don\\x89û÷t stand close the you\\x89û÷ll catch something',\n",
       " 'sorry pain ok meet another night spent late afternoon casualty means haven done stuff42moro includes time sheets sorry',\n",
       " 'smile pleasure smile pain smile trouble hours like rain smile sum hurts u smile become someone still loves see u smiling',\n",
       " 'please call customer service representative 0800 169 6031 10am9pm guaranteed å£1000 cash å£5000 prize',\n",
       " 'haven planning buy later check already lid got 530 show e afternoon u finish work already',\n",
       " 'free ringtone waiting collected simply text password mix 85069 verify get usher briony for',\n",
       " 'watching deluge moviewat at u',\n",
       " 'see finish loads loans pay',\n",
       " 'hi we ok hold yes bit run forgot hairdressers appointment four need get home n shower beforehand cause probe u ham',\n",
       " 'please dont text anymore nothing else say',\n",
       " 'okay name or price long legal wen pick u ave x as xx',\n",
       " 'in still looking car buy gone the driving test yet',\n",
       " 'now your right didn mean guess gave boston men changed search location ny something changed cut signing page still says boston',\n",
       " 'gumma life cava gumma love lot dear',\n",
       " 'thanks lot wishes birthday thanks making birthday truly memorable',\n",
       " 'right ill hit get cash',\n",
       " 'would in address test considering computer isn minecraft server',\n",
       " 'know grumpy old people mon like better lying always one play jokes',\n",
       " 'dont worry guess he busy',\n",
       " 'plural noun research',\n",
       " 'going dinners',\n",
       " 'in ok if cos like 2 try new things scared u dun like may cos u said loud',\n",
       " 'went trying contact last weekend draw shows å£1000 prize guaranteed call 09064012160 claim code k valid 12hrs 150ppm',\n",
       " 'wa or opening sentence formal anyway in fine jug tt in eating much n putting weighthaha anything special happened',\n",
       " 'entered cabin pa said happy day boss felt special asked 4 lunch lunch invited apartment went',\n",
       " 'winner u specially selected 2 receive å£1000 4 holiday flights in speak live operator 2 claim 0871277810910pmin 18',\n",
       " 'good yes must speak friday eggpotato ratio gorilla needed',\n",
       " 'mummy uncle informed he paying school directly pus buy food',\n",
       " 'private 2004 account statement 07742676969 shows 786 redeemed bonus points claim call 08719180248 identified code 45239 expired',\n",
       " 'urgent mobile awarded å£2000 bonus called prize 5903 final try contact u call lanoline 09064019788 box42wr29c 150ppm',\n",
       " 'new address applespairsall salary',\n",
       " 'today vodka numbers ending 7548 selected receive 350 award match please call 08712300220 quoting claim code 4041 standard rates pp',\n",
       " 'going so my today done 12',\n",
       " 'of predict wat time all finish buying',\n",
       " 'good stuff',\n",
       " 'knowyetunde hasn sent money yet sent text bother sending dont involve anything shouldn imposed anything first place apologise',\n",
       " 'room',\n",
       " 'hey girl r u hope u r well del r back long time c give call sum time lucy',\n",
       " 'how much cost',\n",
       " 'in home',\n",
       " 'dear call tmorrowpls accommodate',\n",
       " 'first answer question',\n",
       " 'sunshine quit wily q win top sonya did player u know country algarve txt and 82277 å£150 sptyrone',\n",
       " 'want 2 get laid tonight want real digging locations sent direct 2 or mob join us largest digging network it taking gravel 69888 it ecka 31pmsg150p',\n",
       " 'had man yijuehotmailcom',\n",
       " 'call meet',\n",
       " 'check rooms before activities',\n",
       " 'you rev legs chat sac free hardware services text go 69988 u get nothing u must age verify or network try',\n",
       " 'got c lazy type forgot ì left saw pouch like v nice',\n",
       " 'k text your way',\n",
       " 'sir waiting mail',\n",
       " 'sat thought over get tired little things 4 movable persons cozsomtimes little things occupy biggest part hearts god nip',\n",
       " 'know pus open back',\n",
       " 'yes see a dot',\n",
       " 'what staff name taking class us',\n",
       " 'freemen haven replied text in brandy sex female live local lui hear u netcollex ltd 08700621170150p per mug reply stop end',\n",
       " 'ummmawill call check incur life begin later pus pray hard',\n",
       " 'i delete contact',\n",
       " 'hindu got job girl soft',\n",
       " 'wine flowing in severing',\n",
       " 'up the line better cos need 2 go 2 place may',\n",
       " 'ok or typical reply',\n",
       " 'everywhere dirt floor windows even shirt sometimes open mouth comes flowing dream world without half shores time joy lots to shows ill see guess like things must exist like rain hail mist time done become one',\n",
       " 'aaooooright work',\n",
       " 'in leaving house',\n",
       " 'hello love get interview today happy good boy think mere missing',\n",
       " 'customer service announcement new years delivery waiting please call 07046744435 arrange delivery',\n",
       " 'winner u specially selected 2 receive å£1000 cash 4 holiday flights in speak live operator 2 claim 0871277810810',\n",
       " 'keep safe need miss already envy everyone sees real life',\n",
       " 'new car house parents new job hand',\n",
       " 'in love in excited day spend make happy',\n",
       " 'pus stop bootydelious of inviting friend reply yes434 no434 see wwwsmsacubootydelious stop send stop find 62468',\n",
       " 'bangbabes or order way u receive service mug 2 download or content u got was bang to or mobile internetservice menu',\n",
       " 'place or points e cultures module already',\n",
       " 'urgent trying contact last weekend draw shows å£900 prize guaranteed call 09061701939 claim code s valid 12hrs',\n",
       " 'hi find best way avoid missunderstding wit beloved ones',\n",
       " 'great escape fancy bridge needs later see too',\n",
       " 'yes completely formclark also utter waste',\n",
       " 'sir need axis bank account bank address',\n",
       " 'mmm the sure got time hop and a go 4 free at mud call u discuss liar',\n",
       " 'time coming later',\n",
       " 'bloody hell can believe forgot surname mr ill give u clue spanish begins',\n",
       " 'well in donna finish bath goodwins night',\n",
       " 'let know you got money carlo make call',\n",
       " 'u still going mall',\n",
       " 'turns friends staying whole show wont back til left feel free go ahead smoke left worth',\n",
       " 'text doesn reply let know log',\n",
       " 'hi spoke maneesha v wed like know satisfied experience reply toll free yes',\n",
       " 'lifted hopes offer money need especially end month approaches hurts studying anyway grm weekend',\n",
       " 'll u trust',\n",
       " 'ok gentleman treat dignity respect',\n",
       " 'guns close',\n",
       " 'going nothing greatly',\n",
       " 'hello handsome finding job lazy working towards getting back net mummy where boston miss',\n",
       " 'hata awesome minute',\n",
       " 'please call customer service representative freephone 0808 145 4742 9am11pm guaranteed å£1000 cash å£5000 prize',\n",
       " 'got was radio times get',\n",
       " 'just reached home go bathe first his using net tell u finished k',\n",
       " 'unique enough find with august wwwareyouuniquecouk',\n",
       " 'in sorry give joined league people dont keep touch mean great deal friend times even great personal cost great week',\n",
       " 'hi finally completed course',\n",
       " 'stop however suggest stays someone able give or every stool',\n",
       " 'hope you settled new school year within grm day',\n",
       " 'god man dear had nice day',\n",
       " 'u got persons story',\n",
       " 'master dead hey mr meet pm orchard met',\n",
       " 'hi kate evening hope see tomorrow bit bloody babyjontet txt back u xxx',\n",
       " 'found end left',\n",
       " 'sent left bucks',\n",
       " 'hello darling give finished college txt u finish u love kate xxx',\n",
       " 'account filled successfully in ltdecimalgt keralacircle repaid account balance is ltdecimalgt transaction id or left',\n",
       " 'goodmorning sleeping ga',\n",
       " 'u call alter 11 ok',\n",
       " 'of say like dat dun buy ericsson so can not order war',\n",
       " 'right to days straight dog',\n",
       " 'please give us connection today ltdecimalgt refund bill',\n",
       " 'shoot big loads get ready',\n",
       " 'what but hope great break rewarding smelter',\n",
       " 'home always chat',\n",
       " 'kkgoodstudy well',\n",
       " 'up ì not let',\n",
       " 'sounds great home',\n",
       " 'finally match heading towards draw prediction',\n",
       " 'tired haven slept well past nights',\n",
       " 'easy ashen got selected means good',\n",
       " 'take exam march 3',\n",
       " 'yeah think use it at register sure there anyway help let know sure ready',\n",
       " 'ok probe take or time',\n",
       " 'os called band run without installing hard diskyou use os copy important files system give repair shop',\n",
       " 'u say let course nothing happen war say v romantic just bit for the e note scenery nice let',\n",
       " '500 new mobile 2004 must go txt nikita 89545 collect todayfrom å£1 www4tcbiz 2optout 08718726270150gbpmtmsg18',\n",
       " 'would really appreciate call need someone talk',\n",
       " 'u meet or dream partner soon or career 2 flying start 2 find free txt hero followed or star sign e g hero armies',\n",
       " 'hey company blame po mudyadhu',\n",
       " 'life strict teacher boy teacher reaches lesson amp conducts exam life first conducts exam amp reaches lessons happy morning',\n",
       " 'dear good morning',\n",
       " 'get gandhipuram walk cross cut road right side left street road turn first right',\n",
       " 'dear going rubber place',\n",
       " 'sorry battery died yeah in',\n",
       " 'yeshere to always available work place',\n",
       " 'text meet someone sex today u find date even flirt u join 4 up reply name age eg sam 25 18 mug recdthirtyeight pence',\n",
       " 'printed oh left come upstairs',\n",
       " 'ill little closer like bus stop street',\n",
       " 'youwhen will reach',\n",
       " 'new theory argument wins situation loses person dont argue or friends kick amp say in always correct',\n",
       " 'u 447801259231 secret admirer looking 2 make contact find reveal thinks or specialcall 09058094597',\n",
       " 'tomorrow final hearing lawton case can',\n",
       " 'pleassssssseeeeee tell v event done sports',\n",
       " 'okay shining meant signing sounds better',\n",
       " 'although told u dat in big face watches really like e watch u gave cos fr u than 4 everything dat use done today in touched',\n",
       " 'u dont remember old commercial',\n",
       " 'late said webster didn dont slippers',\n",
       " 'asked call ok',\n",
       " 'walls wont bat and winning',\n",
       " 'didn work oh ok goodnight ill fix ready time wake dearly missed good night sleep',\n",
       " 'congratulations or awarded 500 d voucher 125gift guaranteed free entry 2 100 wily draw txt music 87066 this wwwldewcom1win150ppmx3age16',\n",
       " 'ranjith cal dred deer deep min hold',\n",
       " 'wen or movable sums angry wid u dint take seriously co angry childish n true way showing deep affection care n lui kettoda mania nice day da',\n",
       " 'doinghow',\n",
       " 'up days also shipping company takes was way uses takes week gets law may bribe post get stuff',\n",
       " 'in back femme know your ready',\n",
       " 'dont necessarily expect done get back though in heading',\n",
       " 'mmm mummy babe nice jolt such',\n",
       " 'lover need',\n",
       " 'tried contact reply offer video hands 750 daytime network mind unlimited text camcorder reply call 08000930705',\n",
       " 'i\\x89û÷m marked next mind coming today think',\n",
       " 'up',\n",
       " 'anyway in going shopping cos his done yet dun disturb u liar',\n",
       " 'luzon 0125698789 ring or around h',\n",
       " 'hey really horny want chat see naked text hot 69698 text charged 150pm subscribe text stop 69698',\n",
       " 'dint come us',\n",
       " 'want plan trip sometime',\n",
       " 'sure yet still trying get hold',\n",
       " 'or ringtone service changed 25 free credits go club4mobilescom choose content stop txt club stop 87070 150pwk club po box1146 mk45 it',\n",
       " 'eve download flash jealous',\n",
       " 'ringtone club get up singles chart mobile week choose top quality ringtone message free charge',\n",
       " 'come my sorting narcotics situation',\n",
       " 'night ended another day morning come special way may smile like sunny rays leaves worries blue blue bay',\n",
       " 'hm bonus special 500 pounds genuine hm voucher answer 4 easy questions play send hm 86688 infowww100percentrealcom',\n",
       " 'us guess might well take 1 car',\n",
       " 'objection of coming',\n",
       " 'than',\n",
       " 'tell rob mack of theater',\n",
       " 'awesome ill see bit',\n",
       " 'sent type food like',\n",
       " 'done handed celebrations full swing yet',\n",
       " 'got called tool',\n",
       " 'wen u miss someone',\n",
       " 'ok asked money far',\n",
       " 'one',\n",
       " 'yeah think usual guns still passed last night get hold anybody let know ill throw',\n",
       " 'k might come tonight class lets early',\n",
       " 'ok',\n",
       " 'hi baby in cousin girl friend r u 2 give call hour home that alright one one love jenny xxx',\n",
       " 'life means lot love life love people life world calls friends call world he',\n",
       " 'marshall mail tonitebusy streetshall update tonitethings looking okvarunnathu edukkukayee masha ollubut good one real sense',\n",
       " 'hey told name gautham ah',\n",
       " 'had u found feel stupid da v can working',\n",
       " 'loops 4 got bit',\n",
       " 'much busy',\n",
       " 'accidentally delete message resent please',\n",
       " 'mobile customer may claim free camera phone upgrade pay go him card loyalty call 0845 021 3680offer ends 28thfebtcs apply',\n",
       " 'unless situation go girl would appropriate',\n",
       " 'hurt tease make cry end life die ply keep one rose grave say stupid miss u nice day bslvyl',\n",
       " 'can pick phone right pus send message',\n",
       " 'need coffee run tomocant believe time week already',\n",
       " 'awesome remember last time got somebody high first time diese v',\n",
       " 'shit really shocking scar can imagine second def night u think somewhere could crash night save taxi',\n",
       " 'oh way food fridge want go meal tonight',\n",
       " 'womdarfull actor',\n",
       " 'sums ac blind date u roads him aberdeen united kingdom check httpimg sums acwicmb3cktz8r74 blind dates send hide',\n",
       " 'up red think book',\n",
       " 'joy ask u want meet',\n",
       " 'll yes friendship hanging thread cause u wont buy stuff',\n",
       " 'them check newest selection content games tones gossip babes sport keep mobile fit funny text was 82468',\n",
       " 'garage keys agent bookshelf',\n",
       " 'today accept day accept brother sister lover dear best close lvblefrnd jstfrnd cutefrnd lifpartnr beloved sweetheart bstfrnd reply means enemy',\n",
       " 'think or smart win å£200 week weekly quit text play 85222 notes winnersclub po box 84 may kuz 16 gbp150week',\n",
       " 'says hell give call friends got money he definitely buying end week',\n",
       " 'hi way u day normal waythis real or unique hope know u 4 rest life hope u find not lost',\n",
       " 'made day great day',\n",
       " 'advance happy postal',\n",
       " 'mmm guess go 4 b n power you hata funny than power you not the got lo so forgot liar',\n",
       " 'really due friends in afraid',\n",
       " 'december mobile 11mths entitled update latest colour camera mobile free call mobile update co free 08002986906',\n",
       " 'coffee cake guess',\n",
       " 'merry christmas babe love a kisses',\n",
       " 'hey dont go watch x men lunch hata',\n",
       " 'cut u tell pp in gone b bit ll cos 2 bushes had on past cos full in still waiting 4 1 peter x',\n",
       " 'would great well guild could meet bristol road somewhere get touch weekend plans take flight good week',\n",
       " 'problem',\n",
       " 'hi how today class',\n",
       " 'id say that good sign well know track record reading women',\n",
       " 'cool text your marked',\n",
       " 'in reading text sent meant joke read light',\n",
       " 'klapp good movie',\n",
       " 'maybe could get book too return immediately something',\n",
       " 'call germany 1 pence per minute call fixed line via access number 0844 861 85 85 repayment direct access',\n",
       " 'chance might elaborated soon violated privacy stealing phone number employers paperwork cool please contact report supervisor',\n",
       " 'valentine day special win å£1000 quit take partner trip lifetime send go 83600 150pmsg red custcare08718720201',\n",
       " 'tadaaaaa home babe still',\n",
       " 'cool come haven wined dined',\n",
       " 'sleepingand surging',\n",
       " 'u calling right call hand phone',\n",
       " 'ok that great than lot',\n",
       " 'take post come must 1000s texts happy reading one iv hello caroline end favourite bless',\n",
       " 'u hiding stranger',\n",
       " 'interested like',\n",
       " 'sister cleared two round girl soft yesterday',\n",
       " 'gudnitetcpractice going',\n",
       " 'dis yijue just saw or mail case humming haven sent u sum dis sum',\n",
       " 'one small prestige problem',\n",
       " 'fancy shag interested sextextukcom txt xx such 69876 txt cost 150 per mug this webster x',\n",
       " 'checking really miss seeing jeremiah great month',\n",
       " 'ah can help give never phone',\n",
       " 'your car hour half in going apeshit',\n",
       " 'today sorry day ever angry ever misbehaved hurt ply ply slap herself boy or fault in basically good',\n",
       " 'to guns ever figure much need alcohol jay trying figure much safely spend weed',\n",
       " 'left is minutes 5 minutes ago utf',\n",
       " 'thank callingforgot say happy on sirin fine remembered met insurance personmeet later intra allahrakhesh ex data fig joined tisscotayseer',\n",
       " 'or cashbalance currently 500 pounds minimize or tushin send cash 86688 150pmsg c 08708800282 hgsuite3422lands roww1j6hl',\n",
       " 'in actor work work evening sleep late since in unemployed moment always sleep late your unemployed every day saturday',\n",
       " 'hello got st andrewsboy long way cold keep posted',\n",
       " 'ha ha cool cool chink chikkudb',\n",
       " 'oh ok probe',\n",
       " 'check address status right',\n",
       " 'busy trying finish new year looking forward finally meeting',\n",
       " 'good afternoon sunshine dawn day refreshed happy alive breathe air smile think love always',\n",
       " 'well know z take care worries',\n",
       " 'updatenow was offer latest motorola sonyericsson nikita free bluetooth double mind 1000 txt orange call mobileupd8 08000839402 call2optoutf4q',\n",
       " 'discount code rp176781 stop messages reply stop wwwregalportfoliocouk customer services 08717205546',\n",
       " 'wat uniform get',\n",
       " 'cool text your ready',\n",
       " 'hello boston geese miss already woke wish bed muddling love',\n",
       " 'spoil bed well',\n",
       " 'in going bath mug next left min',\n",
       " 'can keep talking people sure pay agree price pus tell want really buy much willing pay',\n",
       " 'thanks ringtone order reference the charged gap 4 per week subscribe daytime calling customer services 09057039994',\n",
       " 'say happen',\n",
       " 'could seen me did recognise face',\n",
       " 'well there lot things happening linsey new years sighs bars to blue hero something going',\n",
       " 'keep payasam ring brings',\n",
       " 'taught ranjith sir called sums like because he verifying project pray told today pa dont mistake',\n",
       " 'guess that worried must know there way body repairs in quite sure shouldn worry well take slow first tests guide population relax nothing you said reason worry ill keep following',\n",
       " 'yeah sure give couple minutes track wallet',\n",
       " 'hey leave big deal take care',\n",
       " 'hey late ah meet 945',\n",
       " 'double mind txt 4 months free bluetooth orange available sonya nikita motorola phone call mobileupd8 08000839402 call2optoutn9dx',\n",
       " 'took mr owl 3 licks',\n",
       " 'customer place call',\n",
       " 'mm time dont like fun',\n",
       " 'baths half price orange line rental latest camera phone 4 free phone 11mths call mobilesdirect free 08000938767 update or2stoptxt',\n",
       " 'up lunch buffets u eat already',\n",
       " 'hut late fr dinner',\n",
       " 'hey sat going into plates kickboxing',\n",
       " 'morning ok',\n",
       " 'yes think office lap room think that last days didn shut',\n",
       " 'pick bout 730ish time going',\n",
       " 'performance award calculated every two monthnot current one month period',\n",
       " 'actually sleeping still might u call back text grm rock his send u text wen wake',\n",
       " 'always putting business put pictures ass facebook one open people give ever met would think picture room would hurt make feel violated',\n",
       " 'good evening sir al slam wahleykkumsharing happy newby grace god got offer tayseertissco joinedhope fineinshah allahmeet sometimerakheshvisitor india',\n",
       " 'hmmmkbut want change field quickly day anna get system administrator network administrator',\n",
       " 'free ringtone text first 87131 poly text get 87131 true tone help 0845 2814032 16 st free tones x£150pw e£nd txt stop',\n",
       " 'dear check talk',\n",
       " 'hair cream shipped',\n",
       " 'none that happening til get though',\n",
       " 'yep great loxahatchee was tree burning left starts hour',\n",
       " 'hata get used driving us man know lot stoner',\n",
       " 'well slightly disastrous class pm far darlings hope day ok coffee old good can stay late tomorrow time place always',\n",
       " 'hello good week fancy drink something later',\n",
       " 'heading towards busetop',\n",
       " 'messagesome text missing sendername missing number missing senate missing missing u lot that everything missing sent via fullonsmscom',\n",
       " 'come room point iron plan weekend',\n",
       " 'cos want thing',\n",
       " 'skies ill go an jim skin and so go line den go met one bah bah bah',\n",
       " 'bring home windy',\n",
       " '100 dating service call 09064012103 box334sk38ch',\n",
       " 'whatsup dont u want sleep',\n",
       " 'alright new goal',\n",
       " 'free entry å£250 weekly competition text word win 80086 18 to wwwtxttowincouk',\n",
       " 'alright ill head minutes text meet',\n",
       " 'send log 2 or lover 2 names joined heart txt love name name mon eg love adam eve 07123456789 87077 yakov pobox36504w45wq teno 4 as 150p',\n",
       " 'yesfrom last week in taking live call',\n",
       " 'someone contracted dating service entered phone fancy find call lanoline 09111032124 pobox12n146tf150p',\n",
       " 'sila hostel ah',\n",
       " 'urgent mobile number awarded å£2000 prize guaranteed call 09058094455 land line claim 3030 valid 12hrs',\n",
       " 'send or friends receive something or voice speaking expression childish naughty sentiment rowdy full attitude romantic shy attractive funny left irritating left movable reply',\n",
       " 'ok shell ok guess',\n",
       " 'aathiwhere dear',\n",
       " 'pain privation thing else',\n",
       " '7 esplanade ì mind giving lift cos got car today',\n",
       " 'went buy bow car urgentlyits very urgentbut he shortage left lacsthere source rang dis at left lacsthats probe',\n",
       " 'home watching to for',\n",
       " 'usually take fifteen fucking minutes respond yes question',\n",
       " 'congress nikita 3650 video camera phone call 09066382422 calls cost 150ppm ave call mind vary mobile 16 close 300603 post bcm4284 len wc1n3xx',\n",
       " 'booked ticket postal',\n",
       " 'available in like right around hillsborough amp left th',\n",
       " 'message sent skin left dollars should pay left left',\n",
       " 'ask g your give told story like ten times already',\n",
       " 'long applebees fucking take',\n",
       " 'hi hope u get txtjourney hasn now 50 mind late think',\n",
       " 'like love arrange',\n",
       " 'she really greatbhaji told walls best cricket machine worldvery tough get',\n",
       " 'supposed wake it',\n",
       " 'oil saw to din c found group liar',\n",
       " 'hey hey werethe monkeespeople say monkeyaround rowdy gorgeous',\n",
       " 'sorry battery died come in getting gram where place',\n",
       " 'well done blame exercise yeah kind remember not him',\n",
       " 'wont get concentration dear know mind everything',\n",
       " 'll made plans new years',\n",
       " '10 min later k',\n",
       " 'hands loudly',\n",
       " 'thanks hope good day today',\n",
       " 'what detail want transferacc enough',\n",
       " 'ok tell stay yeah tough optimistic things improve month',\n",
       " 'loan purpose å£500 å£75000 homeowners tenants welcome previously refused still help call free 0800 1956669 text back help',\n",
       " 'si si think ill go make orel trifles',\n",
       " 'look amy are beautiful intelligent woman like u lot know u dont like like dont worry',\n",
       " 'hope that result consistently intelligent kind start asking practice links keep ears open best tell',\n",
       " '120 call cost guess isn bad miss a need a want a love a',\n",
       " 'going thou different feelingwavering decisions coming individualtime heal everything believe',\n",
       " 'u go phone donna die stay',\n",
       " 'great never better day gives even reasons thank god',\n",
       " 'upgrdcentre orange customer may claim free camera phone upgrade loyalty call 0207 153 9153 offer ends with july tis apply stout available',\n",
       " 'sorry ill call later ok bye',\n",
       " 'ok way railway',\n",
       " 'great princess love giving receiving oral foggy style have position enjoy making love left times per night',\n",
       " 'dont put stuff roads keep getting slippery',\n",
       " 'going ride bike',\n",
       " 'up need ill just wait 4 e rain 2 stop',\n",
       " 'many company tell language',\n",
       " 'email dear dave final notice collect 4 tenerife holiday 5000 cash award call 09061743806 lanoline tis she box326 cw25wx 150ppm',\n",
       " 'long since screamed princess',\n",
       " 'nothing meant money enters account bank remove flat rate someone transferred left account left dollars got removed banks differ charges also differ sure trust ja person sending account details cos',\n",
       " 'want 2 get laid tonight want real digging locations sent direct 2 or mob join us largest digging network taking moan 69888nyt ecka 31pmsg150p',\n",
       " 'nice line said broken heart ply dont cum 1 times front wise trust u good it',\n",
       " 'ok in donna head us like fifteen minutes',\n",
       " 'love aathilove u lot',\n",
       " 'tension what machine problem',\n",
       " 'k pick another th your done',\n",
       " 'where guns getting back g said thinking staying mr',\n",
       " 'almost see u see',\n",
       " 'to carlo friends already asking working weekend',\n",
       " 'watching to for',\n",
       " 'thank baby can wait taste real thing',\n",
       " 'change ff jackson thuglyfe falconerf',\n",
       " 'win really 1 side long time',\n",
       " 'free message activate 500 free text messages replying message word free terms conditions visit www07781482378com',\n",
       " 'dear reached railway happen',\n",
       " 'depends quality want type sent bone faded glory 6 want ralph maybe 2',\n",
       " 'think give fixed send test message',\n",
       " 'sorry man accounts dry would want could trade back half could buy shit credit card',\n",
       " 'congress 1 year special cinema pass 2 call 09061209465 c sherman v matrix starwars3 etc 4 free bx420ip45we 150pm dont miss',\n",
       " 'sorry meeting ill call later',\n",
       " 'class left reunion',\n",
       " 'free norman call',\n",
       " 'got me',\n",
       " 'hope think go monday sorry replied late',\n",
       " 'told adventure confirm true',\n",
       " 'kate jackson rec center wish right',\n",
       " 'dear reached room',\n",
       " 'fighting world easy u either win lose it fighting some close u difficult u lose u lose u win u still lose',\n",
       " 'ì come',\n",
       " 'check nuerologist',\n",
       " 'police went fish water',\n",
       " '123 congratulations weeks competition draw u å£1450 prize claim call 09050002311 b4280703 tcsstop sums 08718727868 18 150ppm',\n",
       " 'waiting e car days bored wat cos wait outside got nothing 2 home stuff watch to wat',\n",
       " 'maybe westshore hyde park village place near house',\n",
       " 'know how anthony bringing money give school fees pay rent stuff like that need help friend need',\n",
       " 'what significance',\n",
       " 'opinion 1 2 had 3 kusruthi 4 movable 5 silent 6 spy character 7 matured 8 stylish 9 simple pus reply',\n",
       " '8 latest is still scourge also want give new ak try',\n",
       " 'prabhaim sorydarealyfrm heart in story',\n",
       " 'll ok forgiven',\n",
       " 'not change tat',\n",
       " 'guaranteed latest nikita phone 40gb upon may player å£500 prize txt word collect 83355 ibhltd ldnw15h 150pmtmsgrcvd18',\n",
       " 'so competition',\n",
       " 'boltblue tones 150p reply poly mon eg poly 1 ha ha slide 2 yeah 3 slow jam 6 toxic 8 come stop 4 tones txt',\n",
       " 'credits topped httpwwwbubbletextcom renewal pin tgxxrz',\n",
       " 'way transport less problematical sat night way u want ask n join day feel free need know definite nos booking fro',\n",
       " 'usually person unconscious that children adults may behave abnormally ill call',\n",
       " 'that bay might less elsewhere',\n",
       " 'shall come get sickle',\n",
       " 'donna go get faces',\n",
       " 'that rude camps',\n",
       " 'urgent mobile awarded å£2000 bonus called prize 020903 and attempt contact call 08718729755 box95qu',\n",
       " 'hi wont b and 4 christmas enjoy n merry was',\n",
       " 'today offer claim or å£150 worth discount voucher text yes 85023 savamob member offers mobile is 08717898035 å£300 sub 16 sub reply x',\n",
       " 'yes pretty lady like single',\n",
       " 'receive tone within next 24hrs terms conditions please see channel u teletext pg 750',\n",
       " 'jay says your doublefaggot',\n",
       " 'private 2003 account statement 07815296484 shows 800 redeemed him points call 08718738001 identified code 41782 expired 181104',\n",
       " 'todaysundaysunday holidays work',\n",
       " 'ill late',\n",
       " 'give called hoping for malaria know miss guns miss bank big pus give love especially great day',\n",
       " 'good afternoon love goes day hope maybe got leads job think boston send passionate kiss across sea',\n",
       " 'probably donna see later tonight it',\n",
       " 'maybe fat fingers press buttons doesn know',\n",
       " 'ummmmmaah many many happy returns day dear sweet heart happy birthday dear',\n",
       " 'tirupur da started office call',\n",
       " 'wwwapplausestorecom monthlysubscription50pmsg max6month test web age stop txt stop',\n",
       " 'famous quote develop ability listen anything unconditionally without losing temper self confidence means married',\n",
       " 'going college pa else ill come self pa',\n",
       " '4 clock mine base flat plan',\n",
       " 'girl stay bed girl doesn need recovery time id rather pass fun cooped bed',\n",
       " 'special',\n",
       " 'know need get hotel got invitation apologise call sweet come english bloke wedding',\n",
       " 'sorry took long om',\n",
       " 'wait left min',\n",
       " 'ok give 5 minutes think see bow your alive cutting hair whole time',\n",
       " 'imagine finally get sink bath put paces maybe even eat left also imagine feel cage cock surrounded bath water reminding always owns enjoy luck',\n",
       " 'hurry give weeddeficient like three days',\n",
       " 'sure get acknowledgment astounding tactless generally foggy demand blood oath fo',\n",
       " 'ok every night take warm bath drink cup milk you see work magic still need loose weight know',\n",
       " 'i\\x89û÷ll look trying pan case it\\x89û÷s cheap book perhaps that\\x89û÷s silly trying pan isn\\x89û÷t likely book',\n",
       " 'well up causes mutations sunscreen like essential tuesdays',\n",
       " 'luncheon onlinewhy',\n",
       " 'know friend already told',\n",
       " 'hi princess thank pick pretty',\n",
       " 'any u always c ex one funny at me reply first time u reply fast lucky working hut got bad or sugardad three',\n",
       " 'hi mug mein office',\n",
       " 'than 4 e brown v nice',\n",
       " 'geese love much barely stand',\n",
       " 'went trying contact last weekend draw shows å£1000 prize guaranteed call 09064012160 claim code k valid 12hrs 150ppm',\n",
       " 'fuck babe miss already know can let send money towards net need want grave',\n",
       " 'ill call u mr finish address icy american free wont stop calling 2 bad men k eh',\n",
       " 'oooh bed ridden by thinking',\n",
       " 'anyway go grm whatever love smiles hope ok good day babe miss much already',\n",
       " 'love daddy make scream pleasure going slap ass dick',\n",
       " 'not u anna missy',\n",
       " 'war for wait 4 sum 2 finish such lunch for whole morning stay home clean room room quite clean he',\n",
       " 'know lab gorges went',\n",
       " 'open door',\n",
       " 'waiting call',\n",
       " 'hope waiting such 4 daddy',\n",
       " '1000 cash 2000 prize claim call09050000327',\n",
       " 'in tired arguing week week want ill',\n",
       " 'of wait 4 such finish and 5',\n",
       " 'mobile number å£5000 claim calls us back ring claims hot line 09050005321',\n",
       " 'and marriage u r walking unfortunately snake bites u it love marriage dancing front snake amp saying bite bite',\n",
       " 'hut early ì dinner outside izzit',\n",
       " 'ok anyway need change said',\n",
       " 'tried contact reply offer 750 mind 150 extend new video phone call 08002988890 reply free delivery tomorrow',\n",
       " 'wife able kiss want kiss one day',\n",
       " 'how scotland hope showing c tendencies take care live dream',\n",
       " 'tell u headache want use 1 hour sick time',\n",
       " 'dun the ill quit yet mmm go jazz yogasana so go meet em lessons den',\n",
       " 'peter please ring give hardly botany credit',\n",
       " 'a surely better i the',\n",
       " 'in meeting call later',\n",
       " 'or chance win å£250 wily shopping spree txt shop 80878 tss wwwtxt2shopcom custcare 08715705022 1x150pwk',\n",
       " 'specially selected receive 2000 pound award call 08712402050 lines close cost 10ppm 16 tis apply a promo',\n",
       " 'private 2003 account statement 07753741225 shows 800 redeemed points call 08715203677 identified code 42478 expired 241004',\n",
       " 'still grand prim',\n",
       " 'met stranger choose friend long world stands friendship never ends lets friends forever god sitz',\n",
       " 'great',\n",
       " 'god man dear nice day',\n",
       " 'important customer service announcement call freephone 0800 542 0825',\n",
       " 'exhausted train morning much wine pie sleep well',\n",
       " 'in going buy sums present ar',\n",
       " 'mind blasting tsunamis occur rajnikant stopped swimming indian ocean',\n",
       " 'u sending home first ok for in ready yet',\n",
       " 'speaking cash yet',\n",
       " 'happy come noon',\n",
       " 'meet lunch la',\n",
       " 'take care n get well soon',\n",
       " 'xclusiveclubsaisai morrow 285 soiree special you nicholas parisfree roses 2 ladies into 0794674629107880867867',\n",
       " 'meant say can wait see u getting bored bridgwater banter',\n",
       " 'neve mind ok',\n",
       " 'fine emma get drink something want come find',\n",
       " '22 days kick euro2004 u kept date latest news results daily removed send get txt stop 83222',\n",
       " 'valentine game send dis mug or friends 5 answers r someone really loves u que colour suits bestrply',\n",
       " 'many dependents',\n",
       " 'than today her nice 2 catch ave 2 find time often oh well take care c u soon',\n",
       " 'called said hither choose future',\n",
       " 'happy valentine day know early hundreds handsome beauties wish thought finish auntie uncle st',\n",
       " 'like v shock let cos telling shuhui like telling leon also like dat almost know liar got ask at or reaction for',\n",
       " 'family happiness',\n",
       " 'come n pick ì come immediately aft or lesson',\n",
       " 'let snow let snow kind weather brings pp together friendships grow',\n",
       " 'dear got left dollars hi hi',\n",
       " 'good words words may leave u dismay many times',\n",
       " 'make sure flex knows birthday fifteen minutes far your concerned',\n",
       " 'sorry got things may pub later',\n",
       " 'ah straight bring bud drinks something that actually little useful straight cash',\n",
       " 'hata good hear in officially paid market th',\n",
       " 'many licks take get center tootsie pop',\n",
       " 'up the r e teacher said make face look longer warren ask 2 cut short',\n",
       " 'new textbuddy chat 2 horny guns or area 4 up free 2 receive search postpone gaytextbuddycom txt one name 89693',\n",
       " 'today vodafone numbers ending 4882 selected receive å£350 award number matches call 09064019014 receive å£350 award',\n",
       " 'please dont say like hi hi hi',\n",
       " 'thank u',\n",
       " 'oh forwarded message thought send',\n",
       " 'got seventeen pounds seven hundred my \\x89of hope ok',\n",
       " 'dear voucher holder 2 claim weeks offer pp go httpwwwetlpcoukexpressoffer tss apply stop texts txt stop 80062',\n",
       " 'n funny',\n",
       " 'sweetheart hope kind day one loads reasons smile bill',\n",
       " 'ì login dat time dad fetching ì home',\n",
       " 'shower baby',\n",
       " 'asked u question hours answer',\n",
       " 'well emma definitely need stock thanksgiving ill let know in',\n",
       " 'said kiss kiss can sound effects gorgeous man isn kind person needs smile brighten day',\n",
       " 'probably donna swing wee bit',\n",
       " 'a nice ready thursday',\n",
       " 'all braved bushes taken trains triumphed mean we\\x89û÷re b\\x89û÷ham jolly good rest week',\n",
       " 'watching cartoon listening music amp eve go temple amp church u',\n",
       " 'mind ask happened dont say uncomfortable',\n",
       " 'private 2003 account statement shows 800 redeemed points call 08715203694 identified code 40533 expired 311004',\n",
       " 'probe send email',\n",
       " '1000 cash 2000 prize claim call09050000327 to room s iss 150ppm',\n",
       " 'that cool sometimes slow gentle sometimes rough hard',\n",
       " 'in donna say sorry would normal starting panic time sorry seeing tuesday',\n",
       " 'wait know wesleys town bet hell drugs',\n",
       " 'fine miss much',\n",
       " 'tell drug dealers getting impatient',\n",
       " 'sun can come earth send lui rays cloud can come river send lui rain can come meet u send care mug u god long',\n",
       " 'doesn make sense take unless free need know wikipediacom',\n",
       " '88800 89034 premium phone services call 08718711108',\n",
       " 'sea lays rock rock envelope envelope paper paper 3 words',\n",
       " 'sums repent',\n",
       " 'sorry going home first daddy come fetch ì later',\n",
       " 'leave de start prepare next',\n",
       " 'yes baby study positions same supra',\n",
       " 'en chink range bare mug kalstiyathen teacoffee',\n",
       " 'carlosll minute still need buy',\n",
       " 'pay ltdecimalgt lakes',\n",
       " 'good evening tell',\n",
       " 'u receive mug',\n",
       " 'ho ho big belly laugh see a too',\n",
       " 'sums ac sun0819 posts helloyou seem cool',\n",
       " 'get or st ringtone free reply mug tone grm top 20 tones phone every week å£150 per we 2 opt send stop 08452810071 16',\n",
       " 'into wont worry saying anything anymore like said last night whatever want ill peace',\n",
       " 'give got left way could pick',\n",
       " 'dont know pa drink milk',\n",
       " 'maybe say hi find got card great escape witherspoon',\n",
       " 'pigmy r u awake bet are still sleeping in going 4 lunch',\n",
       " 'cause in freak ll',\n",
       " 'missed call cause yelling scraped miss u can wait u come home in lonely today',\n",
       " 'he place talk explain',\n",
       " 'of log 4 wat sdryb8i',\n",
       " 'by going 4 e lunch',\n",
       " 'hi in sue 20 years old work lapdancer love sex text live in bedroom text sue 89555 textoperator go da 150ppmsg 18',\n",
       " 'wanted ask ì wait 4 finish left cos left finished hour anyway',\n",
       " 'finished work yet',\n",
       " 'every king crying baby every great building map important u r today u will reach tomorrow god nip',\n",
       " 'dear cherthalain case u r coming cochon pus call before u start shall also reach accordingly tell day u r comingtmorow engaged and holiday',\n",
       " 'thanks love torch bold',\n",
       " 'forwarded 448712404000please call 08712404000 immediately urgent message waiting',\n",
       " 'farm open',\n",
       " 'sorry trouble u buy d dad 1405 1680 1843 2 big 1 small sat n sun than',\n",
       " 'sister law hope great month saying hey axilla',\n",
       " 'purchase stuff today mail po box number',\n",
       " 'ah poor looks like ill probe send lawton get fixed cut you problem',\n",
       " 'good good job like entrepreneurs',\n",
       " 'right close still around alexis place',\n",
       " 'meet corporation st outside gap \\x89û see mind working',\n",
       " 'sum ask ì buy food home',\n",
       " 'ku also dont mug reply mug',\n",
       " 'much r ì willing pay',\n",
       " 'important prevent dehydration giving enough fluids',\n",
       " 'that bit weird even supposed happening good idea sure pub',\n",
       " 'true dear sat pray evening felt soto said time',\n",
       " 'dont think get away tree long family town sorry',\n",
       " 'anna grm harris',\n",
       " 'quite late war and 12 anyway won b driven',\n",
       " 'review keep fantastic nikita engage game deck club nikita go 2 wwwcnupdatescomnewsletter subscribe alert reply word',\n",
       " 'baths half price orange line rental latest camera phone 4 free phone 11mths call mobilesdirect free 08000938767 update or2stoptxt tis',\n",
       " 'height confidence aeronautics professors her called amp her asked 2 sit airplane after sat her told dat plane was made students dey hurried plane it 1 didn move said made students',\n",
       " 'seems like weird timing night g want come smoke day shitstorm attributed always coming making everyone smoke',\n",
       " '08714712388 10am7pm cost up',\n",
       " 'save stress person form account send account details money sent',\n",
       " 'also knows lunch menu da know',\n",
       " 'stuff sell ill tell',\n",
       " '449071512431 urgent and attempt contact up å£1250 call 09071512433 by 050703 tcsbcm4235wc1n3xx callcost 150ppm mobilesvary max£7 50',\n",
       " 'book lesson mug call work st in going get speck membership px3748',\n",
       " 'guaranteed å£1000 cash å£2000 prize claim or prize call customer service representative 08714712394 10am7pm',\n",
       " 'masha dont feel upset assume mindsetbelieve one evening wonderful plans let life begin againcall daytime',\n",
       " 'oh send address',\n",
       " 'fine daytime best',\n",
       " 'wonder full slim',\n",
       " 'a even colonies jelly',\n",
       " 'world running stillmaybe feeling same to admit matthew correction let call lifeand keep running worldly u r also runninglets run',\n",
       " 'got looks scrumptious daddy wants eat night long',\n",
       " 'cos war in ba do ok 1 pm for u never ask go ah said u would ask fro said u ask today',\n",
       " 'alright om gutta change order half8th',\n",
       " 'exactly anyway far side study visiting',\n",
       " 'funny u ask',\n",
       " 'email alertfrom peri stewartsize 2kbsubject lowest prescription drvgsto listen email call 123',\n",
       " 'didn spring coming early may',\n",
       " 'll wont feel bad use money take speak dinner',\n",
       " 'even u dont get trouble convincingjust tell twice tell neglect legs dont c read just dont reply',\n",
       " 'leaving later tone search opportunityall went fastpls add or prayers dearrakhesh',\n",
       " 'one talking',\n",
       " 'thanks looking really appreciate',\n",
       " 'hi customer loyalty offerthe new nokia6650 mobile å£10 txtauction txt word start 81151 get 4tctxt to 150pmtmsg',\n",
       " 'wish',\n",
       " 'hata may are rite u know well da feeling liked someone go for u faster go find one gas group attached liar',\n",
       " 'yes glad made',\n",
       " 'well little time thing good times ahead',\n",
       " 'got room soon \\x89û hadn put clocks back til 8 shouted everyone get realised 7 what another hour bed',\n",
       " 'ok may free grm',\n",
       " 'men like shorter ladies gaze eyes',\n",
       " 'funny just say go lid time 930',\n",
       " 'promise take good care princess run please send pick get chance tell',\n",
       " 'u subscribed best mobile content service up å£3 per 10 days send stop 82324 helping 08706091795',\n",
       " 'reason were spoken year anyway great week best exam',\n",
       " 'monday next week give full gist',\n",
       " 'realize 40 years well thousands old ladies running around tattoo',\n",
       " 'important customer service announcement premier',\n",
       " 'dont time lip pageboy',\n",
       " 'get library',\n",
       " 'really sorry dont recognise number confused r u please',\n",
       " 'didn holly',\n",
       " 'can think anyone spare room top head',\n",
       " 'faith makes things possiblehope makes things worklove makes things beautifully three christmasmerry christmas',\n",
       " 'u made appointment',\n",
       " 'call youcarlos are phone vibrated acting might hear texts',\n",
       " 'romantic paris 2 nights 2 flights å£79 book 4 next year call 08704439680tscs apply',\n",
       " 'granddad oh dear u still ill felt shit morning think hunger another night leave sat',\n",
       " 'urgent or å£500 guaranteed award still exclaimed call 09066368327 closingdate040902 claimcode m39m51 å£150pmmorefrommobile2bremovedmobypobox734ls27yf',\n",
       " 'nothing just to u would ask cos u ba gun went mt saber yes yes just went already may today going just call for',\n",
       " 'wishing family merry x was happy new year advance',\n",
       " 'or awarded city break could win å£200 summer shopping spree every we txt store 88039 skilgme tscs087147403231winawkage16 å£150perwksub',\n",
       " 'in it going got something unless meeting 4 dinner for hata wonder go tis time',\n",
       " 'll know there dramatic schools already closed tomorrow apparently can drive inch snow supposed get',\n",
       " 'getting anywhere damn job hunting',\n",
       " 'll u drunkard hair moment yeah still 4 tonight was plan',\n",
       " 'ida get weakening way shit twice row',\n",
       " 'will left minutes got space',\n",
       " 'thanks picking trash',\n",
       " 'dont go tell friend your sure want live smokes much spend hours begging come smoke',\n",
       " 'hi kate lovely see tonight ill phone tomorrow got sing guy gave card xxx',\n",
       " 'happy new year dear brother really miss got number decided send text wishing happiness axilla',\n",
       " 'means get door',\n",
       " 'mmm thought said 2 hours slave 3 late punish',\n",
       " 'beverage',\n",
       " 'important customer service announcement premier call freephone 0800 542 0578',\n",
       " 'dont think turns like randomlly within min opening',\n",
       " 'supposed couldn make she still town though',\n",
       " 'time fixes spelling sometimes gets completely if word go figure',\n",
       " 'ever thought living good life perfect partner txt back name age join mobile community 100psms',\n",
       " '5 free top polyphonic tones call 087018728737 national rate get toppoly tune sent every week text supply 81618 å£3 per pole sub 08718727870',\n",
       " 'hoping enjoyed game yesterday sorry give touch pus know fondly been that great week axilla',\n",
       " 'e best 4 or driving mr',\n",
       " 'where u dogbreath sounding like jan c thatåõs al',\n",
       " 'org want scream weighed lost weight woohoo',\n",
       " 'generally isn one unaccountable noun u dictionary pieces research',\n",
       " 'really getting hanging around',\n",
       " 'orange customer may claim free camera phone upgrade loyalty call 0207 153 9996 offer ends 14thmarch tis apply stout avail',\n",
       " 'peter boy wherever friendsare thekingshead come canoe nice',\n",
       " 'ok mug u by leave house',\n",
       " 'time left minutes ago',\n",
       " 'last chance claim or å£150 worth discount voucher today text shop 85023 savamob offers mobile is savamob pobox m263uz å£300 sub 16',\n",
       " 'apt lttimegt fault u dont listen told u twice',\n",
       " 'free st week not nikita tone 4 or mobile every week txt nikita 8077 get taking tell or mates wwwgetzedcouk pobox 36504 w45wq 16 norm150ptone',\n",
       " 'guaranteed å£200 award even å£1000 cast claim or award call free 08000407165 18 2 stop getstop 88222 pp rg21 six',\n",
       " 'k ill 4',\n",
       " 'led d imp',\n",
       " 'sure make sure knows aunt smoking yet',\n",
       " 'blood always work quit',\n",
       " 'taking half day leave be well',\n",
       " 'ugh dont anna get bed warm',\n",
       " 'nervous left',\n",
       " 'there ring comes guns costumes gift future yowifes hint hint',\n",
       " 'congratulations or awarded either å£500 d gift voucher free entry 2 å£100 weekly draw txt music 87066 this wwwldewcom1win150ppmx3age16',\n",
       " 'borrow or bag ok',\n",
       " 'u outside simonwatson5120 since did ply 2 bid visit sums acsmsrewards 2 end bid modifications reply end',\n",
       " 'where boston miss happened',\n",
       " 'lots used ones babe model doesn help you bring hell match',\n",
       " 'also bringing galilee hobby',\n",
       " 'responding',\n",
       " 'too babe u enjoying yourjob u seemed 2 b getting well hunnyhope are take care iåõllspeak u soonlots love xxxi',\n",
       " 'good afternoon starshine how boston grave yet ache fuck lips cappuccino miss babe teasing kiss',\n",
       " 'road can txt',\n",
       " 'smsservices yourinclusive text credits pus got wwwcomuknet login 3qxj9 subscribe stop extra charge help 08702840625comuk 220cm2 the',\n",
       " 'up 4 life moon children need song or mob tell or mrs txt tone charity 8007 nokias poly charity poles red 08701417012 profit 2 charity',\n",
       " 'him bits pieces ll sighs',\n",
       " 'hahahause brain dear',\n",
       " 'hey got mail',\n",
       " 'sorry light turned green meant another friend wanted left worth may around',\n",
       " 'thanks yesterday sir wonderful hope enjoyed burial mojibiola',\n",
       " 'u secret admirer reveal thinks u r special call 09065174042 opt reply reveal stop 150 per mug red must care 07821230901',\n",
       " 'hi mate re u had nice how message 3 say hello co havenåõt sent u 1 ages started driving stay roadsrvx',\n",
       " 'dear voucher holder claim weeks offer pp please go httpwwwetlpcoukexpressoffer tss apply stop texts txt stop 80062',\n",
       " 'thank much shaped wit k sure didn get pleasure company hope good were given ultimatum oh counting burn enjoy message sent days ago',\n",
       " 'surely result offer',\n",
       " 'good morning dear great amp successful day',\n",
       " 'want 750 daytime network mind 150 text new video phone five pounds per week call 08002888812 reply delivery tomorrow',\n",
       " 'sir late paying rent past months pay left charge felt would considerate nag something give great cost that didn speak however recession wont able pay charge month hence skin well ahead months end please help thanks',\n",
       " 'tried contact offer new video phone 750 daytime network mind half price rental camcorder call 08000930705 reply delivery wed',\n",
       " 'last chance 2 claim or å£150 worth discount voucherstext yes 85023 nowsavamobmember offers mobile is 08717898035 å£300 sub 16 remove txt x stop',\n",
       " 'lui u so much u dont understand special u r 2 ring u morrow lui u xxx',\n",
       " 'pus send comprehensive mail in paying much',\n",
       " 'prashanthettans mother passed away last night pray family',\n",
       " 'urgent call 09066350750 lanoline complimentary 4 tibia holiday 10000 cash await collection she tis po box 434 sky up 150 pp 18',\n",
       " 'when going',\n",
       " 'meanwhile shit suite easier decided give us left seconds warning samantha coming playing days guitar impress shit also dont think dog realizes dont live anymore',\n",
       " 'stomach thou much trauma swear can eat better lose weight',\n",
       " 'officewhats matters now call break',\n",
       " 'yeah there barely enough room two us x many fucking shoes sorry man see later',\n",
       " 'u reach orchard already u wan 2 go buy tickets first',\n",
       " 'real baby want bring inner wigless',\n",
       " 'da run activate full version da',\n",
       " 'ah poor babyhood feeling better lui probthat overcome work hey go careful spy 2 u sn lots lovejoy xxx',\n",
       " 'stop story give told give returned he saying order',\n",
       " 'talk sex make new friends fall love worlds discreet text dating service text lip 83110 see could meet',\n",
       " 'going take babe',\n",
       " 'had ana tomorrow coming morning ltdecimalgt ill say go to office reply came home',\n",
       " 'spoons okay',\n",
       " 'say somebody named camp',\n",
       " 'work going min',\n",
       " 'brother genius',\n",
       " 'sorry guess whenever get hold connections maybe hour two ill text',\n",
       " 'u find time bus co need sort stuff',\n",
       " 'due give seeing lost corvettes lately',\n",
       " 'congratulations or awarded either yes supply cos virgin records mystery gift guaranteed call 09061104283 tss wwwsmsconet å£150pm approve mind',\n",
       " 'consider walls bankers shit important never play peaceful guess place high enough dont matter',\n",
       " 'private 2003 account statement 07808 xxxix shows 800 redeemed points call 08719899217 identified code 41685 expired 071104',\n",
       " 'hello need post birds chaps user trial rods chimneys put need address do sap ta r',\n",
       " 'u want was 100 free text messages new video phone half price line rental call free 0800 0721072 find',\n",
       " 'well officially philosophical hole u anna call home ready saved',\n",
       " 'going good problembut still need little experience understand american customer voice',\n",
       " 'ill text drop x',\n",
       " 'ugh long day in exhausted want muddle take nap',\n",
       " 'talk least day otherwise miss best friend world shakespeare shell left',\n",
       " 'shop till u drop either ask k å£500 cash å£100 travel voucher call 09064011000 not po box cr01327bt fixedline cost 150ppm mobile vary',\n",
       " 'castor need see something',\n",
       " 'sunshine quit wily q win top sonya did player u know country liverpool played mid week txt and 82277 å£150 sptyrone',\n",
       " 'u secret admirer looking 2 make contact find reveal thinks or specialcall 09058094565',\n",
       " 'u secret admirer looking 2 make contact find reveal thinks or specialcall 09065171142stopsms08',\n",
       " 'reminder download content already paid got httpdoit memory to collect content',\n",
       " 'see knew giving break times would lead always wanting miss cure donna gibe til one midnight movie donna get til 2 need come home need getsleep anything need b studying ear training',\n",
       " 'love give massage use lots baby oil have position',\n",
       " 'due go sup',\n",
       " 'yoyyooo u know change permission drive mac us flash drive',\n",
       " 'gibb unsoldmike hussy',\n",
       " 'like talk pa able dont know',\n",
       " 'dun cut short let u dun like ah failed she quite sad',\n",
       " 'unbelievable faglord',\n",
       " 'wifehow knew time murder exactly',\n",
       " 'ask princess',\n",
       " 'great princess thinking',\n",
       " 'utter utter utter cttergg cttargg charge stage in',\n",
       " 'ok not are busy in really bored mug u so funny wat colour choose 4 one',\n",
       " 'doesn g class early tomorrow thus shouldn trying smoke left',\n",
       " 'superb thought grateful u dont everything u want means u still opportunity happier tomorrow u today',\n",
       " 'hope good week checking',\n",
       " 'in used hope agents dont drop since give booked things year whole boston ny experiment',\n",
       " 'thursday night yeah sure thing well work',\n",
       " 'probably money worries things coming due several outstanding voices work two three months ago',\n",
       " 'possible teach',\n",
       " 'wonder phone battery went dead tell love babe',\n",
       " 'lovely smell bus aunt tobacco',\n",
       " 'getting worried dere taylor already assumed worst',\n",
       " 'hey what charles sorry late reply',\n",
       " 'latest stereophonics barley dizzy rascal liberties strokes win nook games flirt click them was bookmark text was 82468',\n",
       " 'ill give plus said wrinkle greet whenever speak',\n",
       " 'white judge ores stores',\n",
       " 'january male sale hot gay chat cheaper call 08709222922 national rate 15pmin cheap 78pmin peak stop texts call 08712460324 10pmin',\n",
       " 'love come took long leave others got words my happy see sad left miss',\n",
       " 'sorry hurt',\n",
       " 'can feel caseous in passed didn eat sweets week cause today planning pig sitting week in hungry',\n",
       " 'ok for early still project meeting',\n",
       " 'call da waiting call',\n",
       " 'could ask carlo could get anybody else chip',\n",
       " 'actually send reminder today wonderful weekend',\n",
       " 'people see legs think am addicted making wrong boy dont know am addicted sweet friends bslvyl',\n",
       " 'hey gave photo registered driving ah mr anna meet you',\n",
       " 'dont talk ever ok word',\n",
       " 'u want see',\n",
       " 'way school pus send ashes number',\n",
       " 'shall fine avalarr hollalater',\n",
       " 'went attend another two rounds todaybut still did reach home',\n",
       " 'actually delete old websitenow flogging magicalsongsblogspotcom',\n",
       " 'k wait chikkuil send after left mind',\n",
       " 'in diet ate 1 many slices penza yesterday ugh in always diet',\n",
       " 'i give ve act details',\n",
       " 'oh come ah',\n",
       " 'money r lucky winner 2 claim prize text money 2 88600 å£million give away ppt150x3normal text rate box403 w1t1jy',\n",
       " 'in really sorry wont b able 2 fridayhope u find alternativehope or terms going ok',\n",
       " 'congratulations ore mo two wa enjoy wish many happy moments fro wherever go',\n",
       " 'same shoulders yet',\n",
       " 'time think you need know near camps',\n",
       " 'dear matthew please call 09063440451 lanoline complimentary klux tenerife holiday å£1000 cash await collection ppm150 she tis box334 sk38xh',\n",
       " 'dun wear jeans for',\n",
       " 'since side fever vomiting',\n",
       " 'are college',\n",
       " 'urgent call 09061749602 lanoline complimentary 4 tenerife holiday å£10000 cash await collection she tis box 528 hp20 of 150ppm 18',\n",
       " 'better made friday stuffed like pig yesterday feel blew least writhing pain kind blew',\n",
       " 'sell well tons coins sell coins someone thou papal voila money back life pockets',\n",
       " 'there lots places hospitals medical places safe',\n",
       " 'getting touch folks waiting company txt back name age opt enjoy community 150psms',\n",
       " 'also give sort blown couple times recently id rather text blue looking weed',\n",
       " 'sent scores sophie secondary application schools think thinking applying research cost also contact joke ogunrinde school one less expensive ones',\n",
       " 'can wait see photo useful',\n",
       " 'or cashbalance currently 500 pounds minimize or tushin send go 86688 150pmsg c 08718720201 po box 11414 tcrw1',\n",
       " 'hey booked b sat already lessons going ah keep sat night free need meet confirm lodging',\n",
       " 'ch or beloved ms duct',\n",
       " 'time want come',\n",
       " 'awesome femme know whenever your around',\n",
       " 'she b ok for than',\n",
       " 'beautiful truth gravity read carefully heart feels light someone feels heavy someone leaves good night',\n",
       " 'also remember get doubts bowl car',\n",
       " 'filthy stories girls waiting',\n",
       " 'sorry c or mug war for poor thing 4 one night mr all brand new room 2 sleep',\n",
       " 'love isn decision feeling could decide love life would much simpler less magical',\n",
       " 'well apparently retired',\n",
       " 'sort code act bank latest reply confirm give sent right person',\n",
       " '',\n",
       " 'u sure u can take sick time',\n",
       " 'urgent trying contact u today draw shows å£800 prize guaranteed call 09050001808 land line claim may valid12hrs',\n",
       " 'to had gymnastics class anna take site says christians class full',\n",
       " 'better still catch let ask sell left',\n",
       " 'sure night menu know noon menu',\n",
       " 'u want come back beautiful necklace token heart youths give wife liking seen one give thatdont call me wait till come',\n",
       " 'willing go aptitude class',\n",
       " 'wont b 215 trying 2 sort house ok',\n",
       " 'war for wan 2 go c horse racing today may eat earlier for ate chicken rice u',\n",
       " 'hata awesome om back',\n",
       " 'up the e shop closes for',\n",
       " 'account number',\n",
       " 'eh u send wrongly war',\n",
       " 'hey ad cap note boris without a 2 boggy u boring bitch than u wait til not time il ave a',\n",
       " 'ok shall talk',\n",
       " 'dont hesitate know second time weakness like keep notebook eat day anything changed day sure nothing',\n",
       " 'hey pay salary de left',\n",
       " 'another month need chocolate weed alcohol',\n",
       " 'started searching get job days great potential talent',\n",
       " 'reckon need town eighth walk carpal',\n",
       " 'congress 2 mobile g videophones r call 09063458130 videochat wid mates play cava games load polypi music online rent',\n",
       " 'look fucking time fuck think',\n",
       " 'to guess dropped',\n",
       " 'carlo says hell my left minutes',\n",
       " 'in office call left min',\n",
       " 'geese miss already know think fuck can wait till next year together loving kiss',\n",
       " 'run the i one say ì wan call tomorrowcall 67441233 look ireneere got bus822656166382 i cresubi teach park6ph st wig days¬n',\n",
       " 'ugh gutta drive back sd la butt sore',\n",
       " 'with july',\n",
       " 'hi in relaxing time ever get am every day party good night get home tomorrow wish',\n",
       " 'ì of wan come come for din c stripes skirt',\n",
       " 'was story peace was mug love was miracle jesus had blessed month ahead amp wish u merry was',\n",
       " 'can dont number',\n",
       " 'change e one next escalator',\n",
       " 'retuned in class run water make ok pus',\n",
       " 'lot happened feels quiet beth aunt charlie working lots helen mo',\n",
       " 'ì wait 4 bus stop aft or left war dun c ì go get car come back n pick ì',\n",
       " 'right thanks coming',\n",
       " 'not heard at tat',\n",
       " 'left think say syllabus',\n",
       " 'gumma say anything',\n",
       " 'give see think think',\n",
       " 'panasonic bluetoothhdset free nikita free motorola free doublemins doubletxt orange contract call mobileupd8 08000839402 call 2optout',\n",
       " 'dont quite know still can get hold anyone cut pick bout 730pm see there pub',\n",
       " 'poyyarikaturkolathupalayamunjalur posterode dis left',\n",
       " 'dear hero leaving later tone apt opportunitypls keep touch ltemailgt herald',\n",
       " 'll would mon would fit tell whole family crazy terrible',\n",
       " 'got home babe still awake',\n",
       " 'funny close order of v fan',\n",
       " 'buy penza meat lovers supreme u get pick',\n",
       " 'a toldshe asking was matter',\n",
       " 'dearregret count pick calldrove from cela cochon homeless mobile parents style ishtamayoohappy barred',\n",
       " 'free st week not nikita tone 4 or mob every week txt nikita 8007 get taking tell or mates wwwgetzedcouk pobox 36504 w45wq norm150ptone 16',\n",
       " 'shall send eye mail id',\n",
       " 'hope watching to home going v bored',\n",
       " 'knowwait check',\n",
       " 'good afternoon glorious anniversary day sweet j hope finds happy content prey think send teasing kiss across sea coaxing images fond souvenir cougarpen',\n",
       " 'guess somebody know secretly fancies anna find give us call 09065394514 lanoline datebox1282essexcm61xn 150pmin 18',\n",
       " 'still tonight',\n",
       " 'may call later pus',\n",
       " ...]"
      ]
     },
     "execution_count": 84,
     "metadata": {},
     "output_type": "execute_result"
    }
   ],
   "source": [
    "corpus"
   ]
  },
  {
   "cell_type": "code",
   "execution_count": 85,
   "id": "9e8436d5",
   "metadata": {},
   "outputs": [
    {
     "data": {
      "text/html": [
       "<div>\n",
       "<style scoped>\n",
       "    .dataframe tbody tr th:only-of-type {\n",
       "        vertical-align: middle;\n",
       "    }\n",
       "\n",
       "    .dataframe tbody tr th {\n",
       "        vertical-align: top;\n",
       "    }\n",
       "\n",
       "    .dataframe thead th {\n",
       "        text-align: right;\n",
       "    }\n",
       "</style>\n",
       "<table border=\"1\" class=\"dataframe\">\n",
       "  <thead>\n",
       "    <tr style=\"text-align: right;\">\n",
       "      <th></th>\n",
       "      <th>Massages</th>\n",
       "      <th>Massages_alphabets</th>\n",
       "      <th>Msg_word_count</th>\n",
       "      <th>spam</th>\n",
       "      <th>Massages_tok</th>\n",
       "    </tr>\n",
       "  </thead>\n",
       "  <tbody>\n",
       "    <tr>\n",
       "      <th>0</th>\n",
       "      <td>go during point crazy available boris n great ...</td>\n",
       "      <td>82</td>\n",
       "      <td>16</td>\n",
       "      <td>0</td>\n",
       "      <td>go during point crazy available boris n great ...</td>\n",
       "    </tr>\n",
       "    <tr>\n",
       "      <th>1</th>\n",
       "      <td>ok war joking if u on</td>\n",
       "      <td>23</td>\n",
       "      <td>6</td>\n",
       "      <td>0</td>\n",
       "      <td>ok war joking if u on</td>\n",
       "    </tr>\n",
       "    <tr>\n",
       "      <th>2</th>\n",
       "      <td>free entry 2 wily come win a cup final this mu...</td>\n",
       "      <td>135</td>\n",
       "      <td>23</td>\n",
       "      <td>1</td>\n",
       "      <td>free entry 2 wily come win a cup final this mu...</td>\n",
       "    </tr>\n",
       "    <tr>\n",
       "      <th>3</th>\n",
       "      <td>u dun say early for u c already say</td>\n",
       "      <td>35</td>\n",
       "      <td>9</td>\n",
       "      <td>0</td>\n",
       "      <td>u dun say early for u c already say</td>\n",
       "    </tr>\n",
       "    <tr>\n",
       "      <th>4</th>\n",
       "      <td>ah dont think goes us lives around though</td>\n",
       "      <td>43</td>\n",
       "      <td>8</td>\n",
       "      <td>0</td>\n",
       "      <td>ah dont think goes us lives around though</td>\n",
       "    </tr>\n",
       "  </tbody>\n",
       "</table>\n",
       "</div>"
      ],
      "text/plain": [
       "                                            Massages  Massages_alphabets  \\\n",
       "0  go during point crazy available boris n great ...                  82   \n",
       "1                              ok war joking if u on                  23   \n",
       "2  free entry 2 wily come win a cup final this mu...                 135   \n",
       "3                u dun say early for u c already say                  35   \n",
       "4          ah dont think goes us lives around though                  43   \n",
       "\n",
       "   Msg_word_count  spam                                       Massages_tok  \n",
       "0              16     0  go during point crazy available boris n great ...  \n",
       "1               6     0                              ok war joking if u on  \n",
       "2              23     1  free entry 2 wily come win a cup final this mu...  \n",
       "3               9     0                u dun say early for u c already say  \n",
       "4               8     0          ah dont think goes us lives around though  "
      ]
     },
     "execution_count": 85,
     "metadata": {},
     "output_type": "execute_result"
    }
   ],
   "source": [
    "df.head()"
   ]
  },
  {
   "cell_type": "code",
   "execution_count": 86,
   "id": "7a7a6843",
   "metadata": {},
   "outputs": [],
   "source": [
    "X = df[\"Massages_tok\"]\n",
    "y = df[\"spam\"]\n",
    "\n",
    "from sklearn.model_selection import train_test_split\n",
    "X_train,X_test,y_train,y_test = train_test_split(X,y,\n",
    "                                                 random_state = 42,test_size=0.3)"
   ]
  },
  {
   "cell_type": "code",
   "execution_count": 87,
   "id": "e9cc9234",
   "metadata": {},
   "outputs": [],
   "source": [
    "from sklearn.feature_extraction.text import CountVectorizer\n",
    "countvector=CountVectorizer()\n",
    "X_train_tfm=countvector.fit_transform(X_train)\n",
    "X_test_tfm=countvector.transform(X_test)"
   ]
  },
  {
   "cell_type": "code",
   "execution_count": 88,
   "id": "98d9c20a",
   "metadata": {},
   "outputs": [],
   "source": [
    "X_train_tfm = X_train_tfm.toarray()\n",
    "X_test_tfm = X_test_tfm.toarray()"
   ]
  },
  {
   "cell_type": "code",
   "execution_count": 89,
   "id": "853c2f65",
   "metadata": {},
   "outputs": [
    {
     "data": {
      "text/plain": [
       "array([[0, 0, 0, ..., 0, 0, 0],\n",
       "       [0, 0, 0, ..., 0, 0, 0],\n",
       "       [0, 0, 0, ..., 0, 0, 0],\n",
       "       ...,\n",
       "       [0, 0, 0, ..., 0, 0, 0],\n",
       "       [0, 0, 0, ..., 0, 0, 0],\n",
       "       [0, 0, 0, ..., 0, 0, 0]], dtype=int64)"
      ]
     },
     "execution_count": 89,
     "metadata": {},
     "output_type": "execute_result"
    }
   ],
   "source": [
    "X_train_tfm"
   ]
  },
  {
   "cell_type": "code",
   "execution_count": 99,
   "id": "4f26c045",
   "metadata": {},
   "outputs": [],
   "source": [
    "from sklearn.metrics import *"
   ]
  },
  {
   "cell_type": "code",
   "execution_count": 91,
   "id": "014a2167",
   "metadata": {},
   "outputs": [
    {
     "data": {
      "text/html": [
       "<style>#sk-container-id-1 {color: black;background-color: white;}#sk-container-id-1 pre{padding: 0;}#sk-container-id-1 div.sk-toggleable {background-color: white;}#sk-container-id-1 label.sk-toggleable__label {cursor: pointer;display: block;width: 100%;margin-bottom: 0;padding: 0.3em;box-sizing: border-box;text-align: center;}#sk-container-id-1 label.sk-toggleable__label-arrow:before {content: \"▸\";float: left;margin-right: 0.25em;color: #696969;}#sk-container-id-1 label.sk-toggleable__label-arrow:hover:before {color: black;}#sk-container-id-1 div.sk-estimator:hover label.sk-toggleable__label-arrow:before {color: black;}#sk-container-id-1 div.sk-toggleable__content {max-height: 0;max-width: 0;overflow: hidden;text-align: left;background-color: #f0f8ff;}#sk-container-id-1 div.sk-toggleable__content pre {margin: 0.2em;color: black;border-radius: 0.25em;background-color: #f0f8ff;}#sk-container-id-1 input.sk-toggleable__control:checked~div.sk-toggleable__content {max-height: 200px;max-width: 100%;overflow: auto;}#sk-container-id-1 input.sk-toggleable__control:checked~label.sk-toggleable__label-arrow:before {content: \"▾\";}#sk-container-id-1 div.sk-estimator input.sk-toggleable__control:checked~label.sk-toggleable__label {background-color: #d4ebff;}#sk-container-id-1 div.sk-label input.sk-toggleable__control:checked~label.sk-toggleable__label {background-color: #d4ebff;}#sk-container-id-1 input.sk-hidden--visually {border: 0;clip: rect(1px 1px 1px 1px);clip: rect(1px, 1px, 1px, 1px);height: 1px;margin: -1px;overflow: hidden;padding: 0;position: absolute;width: 1px;}#sk-container-id-1 div.sk-estimator {font-family: monospace;background-color: #f0f8ff;border: 1px dotted black;border-radius: 0.25em;box-sizing: border-box;margin-bottom: 0.5em;}#sk-container-id-1 div.sk-estimator:hover {background-color: #d4ebff;}#sk-container-id-1 div.sk-parallel-item::after {content: \"\";width: 100%;border-bottom: 1px solid gray;flex-grow: 1;}#sk-container-id-1 div.sk-label:hover label.sk-toggleable__label {background-color: #d4ebff;}#sk-container-id-1 div.sk-serial::before {content: \"\";position: absolute;border-left: 1px solid gray;box-sizing: border-box;top: 0;bottom: 0;left: 50%;z-index: 0;}#sk-container-id-1 div.sk-serial {display: flex;flex-direction: column;align-items: center;background-color: white;padding-right: 0.2em;padding-left: 0.2em;position: relative;}#sk-container-id-1 div.sk-item {position: relative;z-index: 1;}#sk-container-id-1 div.sk-parallel {display: flex;align-items: stretch;justify-content: center;background-color: white;position: relative;}#sk-container-id-1 div.sk-item::before, #sk-container-id-1 div.sk-parallel-item::before {content: \"\";position: absolute;border-left: 1px solid gray;box-sizing: border-box;top: 0;bottom: 0;left: 50%;z-index: -1;}#sk-container-id-1 div.sk-parallel-item {display: flex;flex-direction: column;z-index: 1;position: relative;background-color: white;}#sk-container-id-1 div.sk-parallel-item:first-child::after {align-self: flex-end;width: 50%;}#sk-container-id-1 div.sk-parallel-item:last-child::after {align-self: flex-start;width: 50%;}#sk-container-id-1 div.sk-parallel-item:only-child::after {width: 0;}#sk-container-id-1 div.sk-dashed-wrapped {border: 1px dashed gray;margin: 0 0.4em 0.5em 0.4em;box-sizing: border-box;padding-bottom: 0.4em;background-color: white;}#sk-container-id-1 div.sk-label label {font-family: monospace;font-weight: bold;display: inline-block;line-height: 1.2em;}#sk-container-id-1 div.sk-label-container {text-align: center;}#sk-container-id-1 div.sk-container {/* jupyter's `normalize.less` sets `[hidden] { display: none; }` but bootstrap.min.css set `[hidden] { display: none !important; }` so we also need the `!important` here to be able to override the default hidden behavior on the sphinx rendered scikit-learn.org. See: https://github.com/scikit-learn/scikit-learn/issues/21755 */display: inline-block !important;position: relative;}#sk-container-id-1 div.sk-text-repr-fallback {display: none;}</style><div id=\"sk-container-id-1\" class=\"sk-top-container\"><div class=\"sk-text-repr-fallback\"><pre>RandomForestClassifier(criterion=&#x27;entropy&#x27;, max_depth=5, min_samples_split=20,\n",
       "                       n_estimators=200)</pre><b>In a Jupyter environment, please rerun this cell to show the HTML representation or trust the notebook. <br />On GitHub, the HTML representation is unable to render, please try loading this page with nbviewer.org.</b></div><div class=\"sk-container\" hidden><div class=\"sk-item\"><div class=\"sk-estimator sk-toggleable\"><input class=\"sk-toggleable__control sk-hidden--visually\" id=\"sk-estimator-id-1\" type=\"checkbox\" checked><label for=\"sk-estimator-id-1\" class=\"sk-toggleable__label sk-toggleable__label-arrow\">RandomForestClassifier</label><div class=\"sk-toggleable__content\"><pre>RandomForestClassifier(criterion=&#x27;entropy&#x27;, max_depth=5, min_samples_split=20,\n",
       "                       n_estimators=200)</pre></div></div></div></div></div>"
      ],
      "text/plain": [
       "RandomForestClassifier(criterion='entropy', max_depth=5, min_samples_split=20,\n",
       "                       n_estimators=200)"
      ]
     },
     "execution_count": 91,
     "metadata": {},
     "output_type": "execute_result"
    }
   ],
   "source": [
    "from sklearn.ensemble import RandomForestClassifier\n",
    "# implement RandomForest Classifier\n",
    "randomclassifier=RandomForestClassifier(n_estimators=200,criterion='entropy',max_depth = 5,min_samples_split=20)\n",
    "randomclassifier.fit(X_train_tfm,y_train)"
   ]
  },
  {
   "cell_type": "code",
   "execution_count": 92,
   "id": "7d9eebee",
   "metadata": {},
   "outputs": [],
   "source": [
    "rf_y_pred = randomclassifier.predict(X_test_tfm)"
   ]
  },
  {
   "cell_type": "code",
   "execution_count": 93,
   "id": "09c63c0f",
   "metadata": {},
   "outputs": [
    {
     "name": "stdout",
     "output_type": "stream",
     "text": [
      "              precision    recall  f1-score   support\n",
      "\n",
      "           0       0.86      1.00      0.92      1331\n",
      "           1       1.00      0.01      0.03       220\n",
      "\n",
      "    accuracy                           0.86      1551\n",
      "   macro avg       0.93      0.51      0.48      1551\n",
      "weighted avg       0.88      0.86      0.80      1551\n",
      "\n"
     ]
    }
   ],
   "source": [
    "from sklearn.metrics import classification_report,confusion_matrix,accuracy_score\n",
    "print(classification_report(y_test,rf_y_pred))"
   ]
  },
  {
   "cell_type": "code",
   "execution_count": 94,
   "id": "890e1710",
   "metadata": {},
   "outputs": [
    {
     "data": {
      "text/html": [
       "<style>#sk-container-id-2 {color: black;background-color: white;}#sk-container-id-2 pre{padding: 0;}#sk-container-id-2 div.sk-toggleable {background-color: white;}#sk-container-id-2 label.sk-toggleable__label {cursor: pointer;display: block;width: 100%;margin-bottom: 0;padding: 0.3em;box-sizing: border-box;text-align: center;}#sk-container-id-2 label.sk-toggleable__label-arrow:before {content: \"▸\";float: left;margin-right: 0.25em;color: #696969;}#sk-container-id-2 label.sk-toggleable__label-arrow:hover:before {color: black;}#sk-container-id-2 div.sk-estimator:hover label.sk-toggleable__label-arrow:before {color: black;}#sk-container-id-2 div.sk-toggleable__content {max-height: 0;max-width: 0;overflow: hidden;text-align: left;background-color: #f0f8ff;}#sk-container-id-2 div.sk-toggleable__content pre {margin: 0.2em;color: black;border-radius: 0.25em;background-color: #f0f8ff;}#sk-container-id-2 input.sk-toggleable__control:checked~div.sk-toggleable__content {max-height: 200px;max-width: 100%;overflow: auto;}#sk-container-id-2 input.sk-toggleable__control:checked~label.sk-toggleable__label-arrow:before {content: \"▾\";}#sk-container-id-2 div.sk-estimator input.sk-toggleable__control:checked~label.sk-toggleable__label {background-color: #d4ebff;}#sk-container-id-2 div.sk-label input.sk-toggleable__control:checked~label.sk-toggleable__label {background-color: #d4ebff;}#sk-container-id-2 input.sk-hidden--visually {border: 0;clip: rect(1px 1px 1px 1px);clip: rect(1px, 1px, 1px, 1px);height: 1px;margin: -1px;overflow: hidden;padding: 0;position: absolute;width: 1px;}#sk-container-id-2 div.sk-estimator {font-family: monospace;background-color: #f0f8ff;border: 1px dotted black;border-radius: 0.25em;box-sizing: border-box;margin-bottom: 0.5em;}#sk-container-id-2 div.sk-estimator:hover {background-color: #d4ebff;}#sk-container-id-2 div.sk-parallel-item::after {content: \"\";width: 100%;border-bottom: 1px solid gray;flex-grow: 1;}#sk-container-id-2 div.sk-label:hover label.sk-toggleable__label {background-color: #d4ebff;}#sk-container-id-2 div.sk-serial::before {content: \"\";position: absolute;border-left: 1px solid gray;box-sizing: border-box;top: 0;bottom: 0;left: 50%;z-index: 0;}#sk-container-id-2 div.sk-serial {display: flex;flex-direction: column;align-items: center;background-color: white;padding-right: 0.2em;padding-left: 0.2em;position: relative;}#sk-container-id-2 div.sk-item {position: relative;z-index: 1;}#sk-container-id-2 div.sk-parallel {display: flex;align-items: stretch;justify-content: center;background-color: white;position: relative;}#sk-container-id-2 div.sk-item::before, #sk-container-id-2 div.sk-parallel-item::before {content: \"\";position: absolute;border-left: 1px solid gray;box-sizing: border-box;top: 0;bottom: 0;left: 50%;z-index: -1;}#sk-container-id-2 div.sk-parallel-item {display: flex;flex-direction: column;z-index: 1;position: relative;background-color: white;}#sk-container-id-2 div.sk-parallel-item:first-child::after {align-self: flex-end;width: 50%;}#sk-container-id-2 div.sk-parallel-item:last-child::after {align-self: flex-start;width: 50%;}#sk-container-id-2 div.sk-parallel-item:only-child::after {width: 0;}#sk-container-id-2 div.sk-dashed-wrapped {border: 1px dashed gray;margin: 0 0.4em 0.5em 0.4em;box-sizing: border-box;padding-bottom: 0.4em;background-color: white;}#sk-container-id-2 div.sk-label label {font-family: monospace;font-weight: bold;display: inline-block;line-height: 1.2em;}#sk-container-id-2 div.sk-label-container {text-align: center;}#sk-container-id-2 div.sk-container {/* jupyter's `normalize.less` sets `[hidden] { display: none; }` but bootstrap.min.css set `[hidden] { display: none !important; }` so we also need the `!important` here to be able to override the default hidden behavior on the sphinx rendered scikit-learn.org. See: https://github.com/scikit-learn/scikit-learn/issues/21755 */display: inline-block !important;position: relative;}#sk-container-id-2 div.sk-text-repr-fallback {display: none;}</style><div id=\"sk-container-id-2\" class=\"sk-top-container\"><div class=\"sk-text-repr-fallback\"><pre>GaussianNB()</pre><b>In a Jupyter environment, please rerun this cell to show the HTML representation or trust the notebook. <br />On GitHub, the HTML representation is unable to render, please try loading this page with nbviewer.org.</b></div><div class=\"sk-container\" hidden><div class=\"sk-item\"><div class=\"sk-estimator sk-toggleable\"><input class=\"sk-toggleable__control sk-hidden--visually\" id=\"sk-estimator-id-2\" type=\"checkbox\" checked><label for=\"sk-estimator-id-2\" class=\"sk-toggleable__label sk-toggleable__label-arrow\">GaussianNB</label><div class=\"sk-toggleable__content\"><pre>GaussianNB()</pre></div></div></div></div></div>"
      ],
      "text/plain": [
       "GaussianNB()"
      ]
     },
     "execution_count": 94,
     "metadata": {},
     "output_type": "execute_result"
    }
   ],
   "source": [
    "from sklearn.naive_bayes import GaussianNB\n",
    "nb=GaussianNB()\n",
    "nb.fit(X_train_tfm,y_train)"
   ]
  },
  {
   "cell_type": "code",
   "execution_count": 95,
   "id": "80aa7311",
   "metadata": {},
   "outputs": [],
   "source": [
    "nb_y_pred = nb.predict(X_test_tfm)"
   ]
  },
  {
   "cell_type": "code",
   "execution_count": 96,
   "id": "e705f6ea",
   "metadata": {},
   "outputs": [
    {
     "name": "stdout",
     "output_type": "stream",
     "text": [
      "              precision    recall  f1-score   support\n",
      "\n",
      "           0       0.97      0.85      0.91      1331\n",
      "           1       0.48      0.86      0.62       220\n",
      "\n",
      "    accuracy                           0.85      1551\n",
      "   macro avg       0.73      0.86      0.76      1551\n",
      "weighted avg       0.90      0.85      0.87      1551\n",
      "\n"
     ]
    }
   ],
   "source": [
    "print(classification_report(y_test,nb_y_pred))"
   ]
  },
  {
   "cell_type": "code",
   "execution_count": 97,
   "id": "a0c303bb",
   "metadata": {},
   "outputs": [],
   "source": [
    "from sklearn.metrics import *"
   ]
  },
  {
   "cell_type": "code",
   "execution_count": 98,
   "id": "462dddef",
   "metadata": {},
   "outputs": [
    {
     "data": {
      "text/plain": [
       "0.4846938775510204"
      ]
     },
     "execution_count": 98,
     "metadata": {},
     "output_type": "execute_result"
    }
   ],
   "source": [
    "precision_score(y_test,nb_y_pred)"
   ]
  },
  {
   "cell_type": "code",
   "execution_count": null,
   "id": "ac15abd0",
   "metadata": {},
   "outputs": [],
   "source": []
  }
 ],
 "metadata": {
  "kernelspec": {
   "display_name": "Python 3 (ipykernel)",
   "language": "python",
   "name": "python3"
  },
  "language_info": {
   "codemirror_mode": {
    "name": "ipython",
    "version": 3
   },
   "file_extension": ".py",
   "mimetype": "text/x-python",
   "name": "python",
   "nbconvert_exporter": "python",
   "pygments_lexer": "ipython3",
   "version": "3.11.0"
  }
 },
 "nbformat": 4,
 "nbformat_minor": 5
}
